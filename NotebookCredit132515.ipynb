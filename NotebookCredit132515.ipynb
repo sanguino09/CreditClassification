{
 "cells": [
  {
   "cell_type": "markdown",
   "id": "5e12b285",
   "metadata": {},
   "source": [
    "# Credit Classification - Sanguino Osa, Alejandro | 132515"
   ]
  },
  {
   "cell_type": "markdown",
   "id": "5148bc5c",
   "metadata": {},
   "source": [
    "### *He elegido la clasificación porque fue el modelo de Machine Learning que más me llamó la atención durante el curso, en este tendremos que analizar un conjunto de personas a las que se les ofreció una oferta de un crédito bancario, la variable a predecir es, en efecto, si aceptan la oferta o no.*"
   ]
  },
  {
   "cell_type": "markdown",
   "id": "5dc6cccf",
   "metadata": {},
   "source": [
    "## Importamos las librerías que vamos a usar"
   ]
  },
  {
   "cell_type": "code",
   "execution_count": 2,
   "id": "01b9e0c8",
   "metadata": {},
   "outputs": [],
   "source": [
    "import pandas as pd\n",
    "import matplotlib.pyplot as plt\n",
    "import numpy as np\n",
    "import seaborn as sns\n",
    "sns.set()\n",
    "from collections import Counter\n",
    "\n",
    "from scipy.special import expit\n",
    "\n",
    "from sklearn.model_selection import train_test_split,RepeatedStratifiedKFold,cross_val_score\n",
    "from sklearn import tree\n",
    "from sklearn import preprocessing\n",
    "\n",
    "from sklearn.metrics import accuracy_score,classification_report,confusion_matrix, roc_curve, roc_auc_score\n",
    "from sklearn.ensemble import RandomForestClassifier\n",
    "from sklearn.linear_model import LogisticRegression\n",
    "\n",
    "import statsmodels.api as sm\n",
    "import statsmodels.formula.api as smf\n",
    "\n",
    "from sklearn import metrics\n",
    "from sklearn.preprocessing import StandardScaler, MinMaxScaler\n",
    "\n",
    "#!pip install -U imbalanced-learn\n",
    "from imblearn.over_sampling import RandomOverSampler, SMOTE\n",
    "from imblearn.under_sampling import RandomUnderSampler, NearMiss\n",
    "\n",
    "from tabulate import tabulate\n",
    "\n",
    "#Ignoraremos los warnings porque solo molestan a la presentación\n",
    "np.seterr(divide='ignore', invalid='ignore')\n",
    "import warnings\n",
    "warnings.filterwarnings('always')"
   ]
  },
  {
   "cell_type": "markdown",
   "id": "3ed5387f",
   "metadata": {},
   "source": [
    "#### Importamos los datos y creamos el DataFrame."
   ]
  },
  {
   "cell_type": "code",
   "execution_count": 3,
   "id": "02c96c42",
   "metadata": {},
   "outputs": [
    {
     "data": {
      "text/html": [
       "<div>\n",
       "<style scoped>\n",
       "    .dataframe tbody tr th:only-of-type {\n",
       "        vertical-align: middle;\n",
       "    }\n",
       "\n",
       "    .dataframe tbody tr th {\n",
       "        vertical-align: top;\n",
       "    }\n",
       "\n",
       "    .dataframe thead th {\n",
       "        text-align: right;\n",
       "    }\n",
       "</style>\n",
       "<table border=\"1\" class=\"dataframe\">\n",
       "  <thead>\n",
       "    <tr style=\"text-align: right;\">\n",
       "      <th></th>\n",
       "      <th>Customer_Number</th>\n",
       "      <th>Offer_Accepted</th>\n",
       "      <th>Reward</th>\n",
       "      <th>Mailer_Type</th>\n",
       "      <th>Income_Level</th>\n",
       "      <th>Bank_Accounts_Open</th>\n",
       "      <th>Overdraft_Protection</th>\n",
       "      <th>Credit_Rating</th>\n",
       "      <th>Credit_Cards_Held</th>\n",
       "      <th>Homes_Owned</th>\n",
       "      <th>Household_Size</th>\n",
       "      <th>Own_Your_Home</th>\n",
       "      <th>Average_Balance</th>\n",
       "      <th>Q1_Balance</th>\n",
       "      <th>Q2_Balance</th>\n",
       "      <th>Q3_Balance</th>\n",
       "      <th>Q4_Balance</th>\n",
       "    </tr>\n",
       "  </thead>\n",
       "  <tbody>\n",
       "    <tr>\n",
       "      <th>0</th>\n",
       "      <td>1</td>\n",
       "      <td>No</td>\n",
       "      <td>Air Miles</td>\n",
       "      <td>Letter</td>\n",
       "      <td>High</td>\n",
       "      <td>1</td>\n",
       "      <td>No</td>\n",
       "      <td>High</td>\n",
       "      <td>2</td>\n",
       "      <td>1</td>\n",
       "      <td>4</td>\n",
       "      <td>No</td>\n",
       "      <td>1160.75</td>\n",
       "      <td>1669.0</td>\n",
       "      <td>877.0</td>\n",
       "      <td>1095.0</td>\n",
       "      <td>1002.0</td>\n",
       "    </tr>\n",
       "    <tr>\n",
       "      <th>1</th>\n",
       "      <td>2</td>\n",
       "      <td>No</td>\n",
       "      <td>Air Miles</td>\n",
       "      <td>Letter</td>\n",
       "      <td>Medium</td>\n",
       "      <td>1</td>\n",
       "      <td>No</td>\n",
       "      <td>Medium</td>\n",
       "      <td>2</td>\n",
       "      <td>2</td>\n",
       "      <td>5</td>\n",
       "      <td>Yes</td>\n",
       "      <td>147.25</td>\n",
       "      <td>39.0</td>\n",
       "      <td>106.0</td>\n",
       "      <td>78.0</td>\n",
       "      <td>366.0</td>\n",
       "    </tr>\n",
       "    <tr>\n",
       "      <th>2</th>\n",
       "      <td>3</td>\n",
       "      <td>No</td>\n",
       "      <td>Air Miles</td>\n",
       "      <td>Postcard</td>\n",
       "      <td>High</td>\n",
       "      <td>2</td>\n",
       "      <td>No</td>\n",
       "      <td>Medium</td>\n",
       "      <td>2</td>\n",
       "      <td>1</td>\n",
       "      <td>2</td>\n",
       "      <td>Yes</td>\n",
       "      <td>276.50</td>\n",
       "      <td>367.0</td>\n",
       "      <td>352.0</td>\n",
       "      <td>145.0</td>\n",
       "      <td>242.0</td>\n",
       "    </tr>\n",
       "    <tr>\n",
       "      <th>3</th>\n",
       "      <td>4</td>\n",
       "      <td>No</td>\n",
       "      <td>Air Miles</td>\n",
       "      <td>Letter</td>\n",
       "      <td>Medium</td>\n",
       "      <td>2</td>\n",
       "      <td>No</td>\n",
       "      <td>High</td>\n",
       "      <td>1</td>\n",
       "      <td>1</td>\n",
       "      <td>4</td>\n",
       "      <td>No</td>\n",
       "      <td>1219.00</td>\n",
       "      <td>1578.0</td>\n",
       "      <td>1760.0</td>\n",
       "      <td>1119.0</td>\n",
       "      <td>419.0</td>\n",
       "    </tr>\n",
       "    <tr>\n",
       "      <th>4</th>\n",
       "      <td>5</td>\n",
       "      <td>No</td>\n",
       "      <td>Air Miles</td>\n",
       "      <td>Letter</td>\n",
       "      <td>Medium</td>\n",
       "      <td>1</td>\n",
       "      <td>No</td>\n",
       "      <td>Medium</td>\n",
       "      <td>2</td>\n",
       "      <td>1</td>\n",
       "      <td>6</td>\n",
       "      <td>Yes</td>\n",
       "      <td>1211.00</td>\n",
       "      <td>2140.0</td>\n",
       "      <td>1357.0</td>\n",
       "      <td>982.0</td>\n",
       "      <td>365.0</td>\n",
       "    </tr>\n",
       "    <tr>\n",
       "      <th>...</th>\n",
       "      <td>...</td>\n",
       "      <td>...</td>\n",
       "      <td>...</td>\n",
       "      <td>...</td>\n",
       "      <td>...</td>\n",
       "      <td>...</td>\n",
       "      <td>...</td>\n",
       "      <td>...</td>\n",
       "      <td>...</td>\n",
       "      <td>...</td>\n",
       "      <td>...</td>\n",
       "      <td>...</td>\n",
       "      <td>...</td>\n",
       "      <td>...</td>\n",
       "      <td>...</td>\n",
       "      <td>...</td>\n",
       "      <td>...</td>\n",
       "    </tr>\n",
       "    <tr>\n",
       "      <th>17995</th>\n",
       "      <td>17996</td>\n",
       "      <td>No</td>\n",
       "      <td>Cash Back</td>\n",
       "      <td>Letter</td>\n",
       "      <td>High</td>\n",
       "      <td>1</td>\n",
       "      <td>No</td>\n",
       "      <td>Low</td>\n",
       "      <td>1</td>\n",
       "      <td>1</td>\n",
       "      <td>5</td>\n",
       "      <td>Yes</td>\n",
       "      <td>167.50</td>\n",
       "      <td>136.0</td>\n",
       "      <td>65.0</td>\n",
       "      <td>71.0</td>\n",
       "      <td>398.0</td>\n",
       "    </tr>\n",
       "    <tr>\n",
       "      <th>17996</th>\n",
       "      <td>17997</td>\n",
       "      <td>No</td>\n",
       "      <td>Cash Back</td>\n",
       "      <td>Letter</td>\n",
       "      <td>High</td>\n",
       "      <td>1</td>\n",
       "      <td>No</td>\n",
       "      <td>Low</td>\n",
       "      <td>3</td>\n",
       "      <td>1</td>\n",
       "      <td>3</td>\n",
       "      <td>Yes</td>\n",
       "      <td>850.50</td>\n",
       "      <td>984.0</td>\n",
       "      <td>940.0</td>\n",
       "      <td>943.0</td>\n",
       "      <td>535.0</td>\n",
       "    </tr>\n",
       "    <tr>\n",
       "      <th>17997</th>\n",
       "      <td>17998</td>\n",
       "      <td>No</td>\n",
       "      <td>Cash Back</td>\n",
       "      <td>Letter</td>\n",
       "      <td>High</td>\n",
       "      <td>1</td>\n",
       "      <td>No</td>\n",
       "      <td>Low</td>\n",
       "      <td>2</td>\n",
       "      <td>1</td>\n",
       "      <td>4</td>\n",
       "      <td>No</td>\n",
       "      <td>1087.25</td>\n",
       "      <td>918.0</td>\n",
       "      <td>767.0</td>\n",
       "      <td>1170.0</td>\n",
       "      <td>1494.0</td>\n",
       "    </tr>\n",
       "    <tr>\n",
       "      <th>17998</th>\n",
       "      <td>17999</td>\n",
       "      <td>No</td>\n",
       "      <td>Cash Back</td>\n",
       "      <td>Letter</td>\n",
       "      <td>Medium</td>\n",
       "      <td>1</td>\n",
       "      <td>No</td>\n",
       "      <td>Medium</td>\n",
       "      <td>4</td>\n",
       "      <td>2</td>\n",
       "      <td>2</td>\n",
       "      <td>Yes</td>\n",
       "      <td>1022.25</td>\n",
       "      <td>626.0</td>\n",
       "      <td>983.0</td>\n",
       "      <td>865.0</td>\n",
       "      <td>1615.0</td>\n",
       "    </tr>\n",
       "    <tr>\n",
       "      <th>17999</th>\n",
       "      <td>18000</td>\n",
       "      <td>No</td>\n",
       "      <td>Cash Back</td>\n",
       "      <td>Letter</td>\n",
       "      <td>Low</td>\n",
       "      <td>2</td>\n",
       "      <td>No</td>\n",
       "      <td>Medium</td>\n",
       "      <td>2</td>\n",
       "      <td>1</td>\n",
       "      <td>3</td>\n",
       "      <td>No</td>\n",
       "      <td>1056.00</td>\n",
       "      <td>265.0</td>\n",
       "      <td>1378.0</td>\n",
       "      <td>1978.0</td>\n",
       "      <td>603.0</td>\n",
       "    </tr>\n",
       "  </tbody>\n",
       "</table>\n",
       "<p>18000 rows × 17 columns</p>\n",
       "</div>"
      ],
      "text/plain": [
       "       Customer_Number Offer_Accepted     Reward Mailer_Type Income_Level  \\\n",
       "0                    1             No  Air Miles      Letter         High   \n",
       "1                    2             No  Air Miles      Letter       Medium   \n",
       "2                    3             No  Air Miles    Postcard         High   \n",
       "3                    4             No  Air Miles      Letter       Medium   \n",
       "4                    5             No  Air Miles      Letter       Medium   \n",
       "...                ...            ...        ...         ...          ...   \n",
       "17995            17996             No  Cash Back      Letter         High   \n",
       "17996            17997             No  Cash Back      Letter         High   \n",
       "17997            17998             No  Cash Back      Letter         High   \n",
       "17998            17999             No  Cash Back      Letter       Medium   \n",
       "17999            18000             No  Cash Back      Letter          Low   \n",
       "\n",
       "       Bank_Accounts_Open Overdraft_Protection Credit_Rating  \\\n",
       "0                       1                   No          High   \n",
       "1                       1                   No        Medium   \n",
       "2                       2                   No        Medium   \n",
       "3                       2                   No          High   \n",
       "4                       1                   No        Medium   \n",
       "...                   ...                  ...           ...   \n",
       "17995                   1                   No           Low   \n",
       "17996                   1                   No           Low   \n",
       "17997                   1                   No           Low   \n",
       "17998                   1                   No        Medium   \n",
       "17999                   2                   No        Medium   \n",
       "\n",
       "       Credit_Cards_Held  Homes_Owned  Household_Size Own_Your_Home  \\\n",
       "0                      2            1               4            No   \n",
       "1                      2            2               5           Yes   \n",
       "2                      2            1               2           Yes   \n",
       "3                      1            1               4            No   \n",
       "4                      2            1               6           Yes   \n",
       "...                  ...          ...             ...           ...   \n",
       "17995                  1            1               5           Yes   \n",
       "17996                  3            1               3           Yes   \n",
       "17997                  2            1               4            No   \n",
       "17998                  4            2               2           Yes   \n",
       "17999                  2            1               3            No   \n",
       "\n",
       "       Average_Balance  Q1_Balance  Q2_Balance  Q3_Balance  Q4_Balance  \n",
       "0              1160.75      1669.0       877.0      1095.0      1002.0  \n",
       "1               147.25        39.0       106.0        78.0       366.0  \n",
       "2               276.50       367.0       352.0       145.0       242.0  \n",
       "3              1219.00      1578.0      1760.0      1119.0       419.0  \n",
       "4              1211.00      2140.0      1357.0       982.0       365.0  \n",
       "...                ...         ...         ...         ...         ...  \n",
       "17995           167.50       136.0        65.0        71.0       398.0  \n",
       "17996           850.50       984.0       940.0       943.0       535.0  \n",
       "17997          1087.25       918.0       767.0      1170.0      1494.0  \n",
       "17998          1022.25       626.0       983.0       865.0      1615.0  \n",
       "17999          1056.00       265.0      1378.0      1978.0       603.0  \n",
       "\n",
       "[18000 rows x 17 columns]"
      ]
     },
     "execution_count": 3,
     "metadata": {},
     "output_type": "execute_result"
    }
   ],
   "source": [
    "url='https://drive.google.com/file/d/1rs9UcRrQhxa31YgN3BysRvms5sEixAeZ/view?usp=share_link'\n",
    "file_id=url.split('/')[-2]\n",
    "dwn_url='https://drive.google.com/uc?id=' + file_id\n",
    "credit = pd.read_csv(dwn_url, sep = ';')\n",
    "credit"
   ]
  },
  {
   "cell_type": "markdown",
   "id": "b7850a38",
   "metadata": {},
   "source": [
    "## Análisis Exploratorio"
   ]
  },
  {
   "cell_type": "code",
   "execution_count": 4,
   "id": "11fc9826",
   "metadata": {},
   "outputs": [
    {
     "data": {
      "text/plain": [
       "Offer_Accepted\n",
       "No     16977\n",
       "Yes     1023\n",
       "Name: Offer_Accepted, dtype: int64"
      ]
     },
     "execution_count": 4,
     "metadata": {},
     "output_type": "execute_result"
    }
   ],
   "source": [
    "credit.groupby('Offer_Accepted')['Offer_Accepted'].count()"
   ]
  },
  {
   "cell_type": "markdown",
   "id": "0420141e",
   "metadata": {},
   "source": [
    "### Limpieza"
   ]
  },
  {
   "cell_type": "code",
   "execution_count": 5,
   "id": "8eb8b5df",
   "metadata": {},
   "outputs": [
    {
     "name": "stdout",
     "output_type": "stream",
     "text": [
      "<class 'pandas.core.frame.DataFrame'>\n",
      "RangeIndex: 18000 entries, 0 to 17999\n",
      "Data columns (total 17 columns):\n",
      " #   Column                Non-Null Count  Dtype  \n",
      "---  ------                --------------  -----  \n",
      " 0   Customer_Number       18000 non-null  int64  \n",
      " 1   Offer_Accepted        18000 non-null  object \n",
      " 2   Reward                18000 non-null  object \n",
      " 3   Mailer_Type           18000 non-null  object \n",
      " 4   Income_Level          18000 non-null  object \n",
      " 5   Bank_Accounts_Open    18000 non-null  int64  \n",
      " 6   Overdraft_Protection  18000 non-null  object \n",
      " 7   Credit_Rating         18000 non-null  object \n",
      " 8   Credit_Cards_Held     18000 non-null  int64  \n",
      " 9   Homes_Owned           18000 non-null  int64  \n",
      " 10  Household_Size        18000 non-null  int64  \n",
      " 11  Own_Your_Home         18000 non-null  object \n",
      " 12  Average_Balance       17976 non-null  float64\n",
      " 13  Q1_Balance            17976 non-null  float64\n",
      " 14  Q2_Balance            17976 non-null  float64\n",
      " 15  Q3_Balance            17976 non-null  float64\n",
      " 16  Q4_Balance            17976 non-null  float64\n",
      "dtypes: float64(5), int64(5), object(7)\n",
      "memory usage: 2.3+ MB\n"
     ]
    }
   ],
   "source": [
    "credit.info()"
   ]
  },
  {
   "cell_type": "markdown",
   "id": "03b7cf7b",
   "metadata": {},
   "source": [
    "##### Parece que tenemos algunos NaN así que vamos a limpiarlos."
   ]
  },
  {
   "cell_type": "code",
   "execution_count": 6,
   "id": "af773643",
   "metadata": {},
   "outputs": [],
   "source": [
    "credit = credit.drop(columns=['Q1_Balance','Q2_Balance','Q3_Balance','Q4_Balance']) \n",
    "# no los vamos a usar"
   ]
  },
  {
   "cell_type": "code",
   "execution_count": 7,
   "id": "43979705",
   "metadata": {},
   "outputs": [],
   "source": [
    "credit['Average_Balance'] = credit['Average_Balance'].fillna(credit['Average_Balance'].mean())"
   ]
  },
  {
   "cell_type": "code",
   "execution_count": 8,
   "id": "45b9f8c8",
   "metadata": {},
   "outputs": [
    {
     "name": "stdout",
     "output_type": "stream",
     "text": [
      "<class 'pandas.core.frame.DataFrame'>\n",
      "RangeIndex: 18000 entries, 0 to 17999\n",
      "Data columns (total 13 columns):\n",
      " #   Column                Non-Null Count  Dtype  \n",
      "---  ------                --------------  -----  \n",
      " 0   Customer_Number       18000 non-null  int64  \n",
      " 1   Offer_Accepted        18000 non-null  object \n",
      " 2   Reward                18000 non-null  object \n",
      " 3   Mailer_Type           18000 non-null  object \n",
      " 4   Income_Level          18000 non-null  object \n",
      " 5   Bank_Accounts_Open    18000 non-null  int64  \n",
      " 6   Overdraft_Protection  18000 non-null  object \n",
      " 7   Credit_Rating         18000 non-null  object \n",
      " 8   Credit_Cards_Held     18000 non-null  int64  \n",
      " 9   Homes_Owned           18000 non-null  int64  \n",
      " 10  Household_Size        18000 non-null  int64  \n",
      " 11  Own_Your_Home         18000 non-null  object \n",
      " 12  Average_Balance       18000 non-null  float64\n",
      "dtypes: float64(1), int64(5), object(7)\n",
      "memory usage: 1.8+ MB\n"
     ]
    }
   ],
   "source": [
    "credit.info()"
   ]
  },
  {
   "cell_type": "markdown",
   "id": "eabd5892",
   "metadata": {},
   "source": [
    "#### Ya no hay ningún valor perdido ni nada extraño, por lo que podemos dar la limpieza por terminada, seguimos con el análisis exploratorio."
   ]
  },
  {
   "cell_type": "markdown",
   "id": "a266d6f7",
   "metadata": {},
   "source": [
    "---"
   ]
  },
  {
   "cell_type": "code",
   "execution_count": 9,
   "id": "295878be",
   "metadata": {},
   "outputs": [
    {
     "data": {
      "text/html": [
       "<div>\n",
       "<style scoped>\n",
       "    .dataframe tbody tr th:only-of-type {\n",
       "        vertical-align: middle;\n",
       "    }\n",
       "\n",
       "    .dataframe tbody tr th {\n",
       "        vertical-align: top;\n",
       "    }\n",
       "\n",
       "    .dataframe thead th {\n",
       "        text-align: right;\n",
       "    }\n",
       "</style>\n",
       "<table border=\"1\" class=\"dataframe\">\n",
       "  <thead>\n",
       "    <tr style=\"text-align: right;\">\n",
       "      <th></th>\n",
       "      <th>Customer_Number</th>\n",
       "      <th>Bank_Accounts_Open</th>\n",
       "      <th>Credit_Cards_Held</th>\n",
       "      <th>Homes_Owned</th>\n",
       "      <th>Household_Size</th>\n",
       "      <th>Average_Balance</th>\n",
       "    </tr>\n",
       "  </thead>\n",
       "  <tbody>\n",
       "    <tr>\n",
       "      <th>count</th>\n",
       "      <td>18000.000000</td>\n",
       "      <td>18000.000000</td>\n",
       "      <td>18000.000000</td>\n",
       "      <td>18000.000000</td>\n",
       "      <td>18000.000000</td>\n",
       "      <td>18000.000000</td>\n",
       "    </tr>\n",
       "    <tr>\n",
       "      <th>mean</th>\n",
       "      <td>9000.500000</td>\n",
       "      <td>1.255778</td>\n",
       "      <td>1.903500</td>\n",
       "      <td>1.203444</td>\n",
       "      <td>3.499056</td>\n",
       "      <td>940.515562</td>\n",
       "    </tr>\n",
       "    <tr>\n",
       "      <th>std</th>\n",
       "      <td>5196.296758</td>\n",
       "      <td>0.472501</td>\n",
       "      <td>0.797009</td>\n",
       "      <td>0.427341</td>\n",
       "      <td>1.114182</td>\n",
       "      <td>350.064214</td>\n",
       "    </tr>\n",
       "    <tr>\n",
       "      <th>min</th>\n",
       "      <td>1.000000</td>\n",
       "      <td>1.000000</td>\n",
       "      <td>1.000000</td>\n",
       "      <td>1.000000</td>\n",
       "      <td>1.000000</td>\n",
       "      <td>48.250000</td>\n",
       "    </tr>\n",
       "    <tr>\n",
       "      <th>10%</th>\n",
       "      <td>1800.900000</td>\n",
       "      <td>1.000000</td>\n",
       "      <td>1.000000</td>\n",
       "      <td>1.000000</td>\n",
       "      <td>2.000000</td>\n",
       "      <td>288.500000</td>\n",
       "    </tr>\n",
       "    <tr>\n",
       "      <th>25%</th>\n",
       "      <td>4500.750000</td>\n",
       "      <td>1.000000</td>\n",
       "      <td>1.000000</td>\n",
       "      <td>1.000000</td>\n",
       "      <td>3.000000</td>\n",
       "      <td>787.937500</td>\n",
       "    </tr>\n",
       "    <tr>\n",
       "      <th>50%</th>\n",
       "      <td>9000.500000</td>\n",
       "      <td>1.000000</td>\n",
       "      <td>2.000000</td>\n",
       "      <td>1.000000</td>\n",
       "      <td>3.000000</td>\n",
       "      <td>1006.500000</td>\n",
       "    </tr>\n",
       "    <tr>\n",
       "      <th>75%</th>\n",
       "      <td>13500.250000</td>\n",
       "      <td>1.000000</td>\n",
       "      <td>2.000000</td>\n",
       "      <td>1.000000</td>\n",
       "      <td>4.000000</td>\n",
       "      <td>1152.562500</td>\n",
       "    </tr>\n",
       "    <tr>\n",
       "      <th>80%</th>\n",
       "      <td>14400.200000</td>\n",
       "      <td>2.000000</td>\n",
       "      <td>3.000000</td>\n",
       "      <td>1.000000</td>\n",
       "      <td>4.000000</td>\n",
       "      <td>1192.250000</td>\n",
       "    </tr>\n",
       "    <tr>\n",
       "      <th>90%</th>\n",
       "      <td>16200.100000</td>\n",
       "      <td>2.000000</td>\n",
       "      <td>3.000000</td>\n",
       "      <td>2.000000</td>\n",
       "      <td>5.000000</td>\n",
       "      <td>1293.000000</td>\n",
       "    </tr>\n",
       "    <tr>\n",
       "      <th>max</th>\n",
       "      <td>18000.000000</td>\n",
       "      <td>3.000000</td>\n",
       "      <td>4.000000</td>\n",
       "      <td>3.000000</td>\n",
       "      <td>9.000000</td>\n",
       "      <td>3366.250000</td>\n",
       "    </tr>\n",
       "  </tbody>\n",
       "</table>\n",
       "</div>"
      ],
      "text/plain": [
       "       Customer_Number  Bank_Accounts_Open  Credit_Cards_Held   Homes_Owned  \\\n",
       "count     18000.000000        18000.000000       18000.000000  18000.000000   \n",
       "mean       9000.500000            1.255778           1.903500      1.203444   \n",
       "std        5196.296758            0.472501           0.797009      0.427341   \n",
       "min           1.000000            1.000000           1.000000      1.000000   \n",
       "10%        1800.900000            1.000000           1.000000      1.000000   \n",
       "25%        4500.750000            1.000000           1.000000      1.000000   \n",
       "50%        9000.500000            1.000000           2.000000      1.000000   \n",
       "75%       13500.250000            1.000000           2.000000      1.000000   \n",
       "80%       14400.200000            2.000000           3.000000      1.000000   \n",
       "90%       16200.100000            2.000000           3.000000      2.000000   \n",
       "max       18000.000000            3.000000           4.000000      3.000000   \n",
       "\n",
       "       Household_Size  Average_Balance  \n",
       "count    18000.000000     18000.000000  \n",
       "mean         3.499056       940.515562  \n",
       "std          1.114182       350.064214  \n",
       "min          1.000000        48.250000  \n",
       "10%          2.000000       288.500000  \n",
       "25%          3.000000       787.937500  \n",
       "50%          3.000000      1006.500000  \n",
       "75%          4.000000      1152.562500  \n",
       "80%          4.000000      1192.250000  \n",
       "90%          5.000000      1293.000000  \n",
       "max          9.000000      3366.250000  "
      ]
     },
     "execution_count": 9,
     "metadata": {},
     "output_type": "execute_result"
    }
   ],
   "source": [
    "credit.describe(percentiles = (0.1, 0.25, 0.75, 0.8, 0.9))"
   ]
  },
  {
   "cell_type": "markdown",
   "id": "a36eda15",
   "metadata": {},
   "source": [
    "#### Los percentiles para variables categóricas no aportan mucha información, pero de aquí hemos encontrado una oportunidad para visualizar la relación del Average_Balance con el Income_Level."
   ]
  },
  {
   "cell_type": "code",
   "execution_count": 90,
   "id": "ebe150ce",
   "metadata": {},
   "outputs": [
    {
     "data": {
      "text/plain": [
       "Income_Level\n",
       "High      942.570837\n",
       "Low       937.668817\n",
       "Medium    940.892480\n",
       "Name: Average_Balance, dtype: float64"
      ]
     },
     "execution_count": 90,
     "metadata": {},
     "output_type": "execute_result"
    }
   ],
   "source": [
    "credit.groupby('Income_Level')['Average_Balance'].mean()"
   ]
  },
  {
   "cell_type": "code",
   "execution_count": 89,
   "id": "4014006b",
   "metadata": {},
   "outputs": [
    {
     "data": {
      "text/plain": [
       "<AxesSubplot:xlabel='Income_Level', ylabel='Average_Balance'>"
      ]
     },
     "execution_count": 89,
     "metadata": {},
     "output_type": "execute_result"
    },
    {
     "data": {
      "image/png": "[encoded data removed]",
      "text/plain": [
       "<Figure size 640x480 with 1 Axes>"
      ]
     },
     "metadata": {},
     "output_type": "display_data"
    }
   ],
   "source": [
    "sns.barplot(data = credit, y='Average_Balance', x = 'Income_Level')"
   ]
  },
  {
   "cell_type": "code",
   "execution_count": 91,
   "id": "3d78b454",
   "metadata": {},
   "outputs": [
    {
     "data": {
      "text/plain": [
       "<AxesSubplot:ylabel='Income_Level'>"
      ]
     },
     "execution_count": 91,
     "metadata": {},
     "output_type": "execute_result"
    },
    {
     "data": {
      "image/png": "[encoded data removed]",
      "text/plain": [
       "<Figure size 640x480 with 1 Axes>"
      ]
     },
     "metadata": {},
     "output_type": "display_data"
    }
   ],
   "source": [
    "creditHomes = credit['Income_Level'].value_counts()\n",
    "creditHomes\n",
    "creditHomes.plot.pie(autopct=\"%.1f%%\")"
   ]
  },
  {
   "cell_type": "code",
   "execution_count": 10,
   "id": "bfe4a114",
   "metadata": {},
   "outputs": [
    {
     "data": {
      "text/plain": [
       "<AxesSubplot:ylabel='Homes_Owned'>"
      ]
     },
     "execution_count": 10,
     "metadata": {},
     "output_type": "execute_result"
    },
    {
     "data": {
      "image/png": "[encoded data removed]",
      "text/plain": [
       "<Figure size 640x480 with 1 Axes>"
      ]
     },
     "metadata": {},
     "output_type": "display_data"
    }
   ],
   "source": [
    "creditHomes = credit['Homes_Owned'].value_counts()\n",
    "creditHomes\n",
    "creditHomes.plot.pie(autopct=\"%.1f%%\")"
   ]
  },
  {
   "cell_type": "code",
   "execution_count": 11,
   "id": "8f70cc54",
   "metadata": {},
   "outputs": [
    {
     "data": {
      "image/png": "[encoded data removed]",
      "text/plain": [
       "<Figure size 640x480 with 1 Axes>"
      ]
     },
     "metadata": {},
     "output_type": "display_data"
    }
   ],
   "source": [
    "sns.histplot(credit['Offer_Accepted']);"
   ]
  },
  {
   "cell_type": "code",
   "execution_count": 12,
   "id": "644abd0f",
   "metadata": {},
   "outputs": [
    {
     "data": {
      "text/plain": [
       "<AxesSubplot:xlabel='Bank_Accounts_Open', ylabel='Count'>"
      ]
     },
     "execution_count": 12,
     "metadata": {},
     "output_type": "execute_result"
    },
    {
     "data": {
      "image/png": "[encoded data removed]",
      "text/plain": [
       "<Figure size 640x480 with 1 Axes>"
      ]
     },
     "metadata": {},
     "output_type": "display_data"
    }
   ],
   "source": [
    "sns.histplot(data = credit, x='Bank_Accounts_Open', hue = 'Offer_Accepted')"
   ]
  },
  {
   "cell_type": "code",
   "execution_count": 13,
   "id": "d0e0d380",
   "metadata": {},
   "outputs": [
    {
     "data": {
      "text/plain": [
       "<AxesSubplot:xlabel='Overdraft_Protection', ylabel='Count'>"
      ]
     },
     "execution_count": 13,
     "metadata": {},
     "output_type": "execute_result"
    },
    {
     "data": {
      "image/png": "[encoded data removed]",
      "text/plain": [
       "<Figure size 640x480 with 1 Axes>"
      ]
     },
     "metadata": {},
     "output_type": "display_data"
    }
   ],
   "source": [
    "sns.histplot(data = credit, x='Overdraft_Protection', hue = 'Offer_Accepted') "
   ]
  },
  {
   "cell_type": "code",
   "execution_count": 14,
   "id": "534375ca",
   "metadata": {},
   "outputs": [
    {
     "data": {
      "text/plain": [
       "<AxesSubplot:xlabel='Own_Your_Home', ylabel='Count'>"
      ]
     },
     "execution_count": 14,
     "metadata": {},
     "output_type": "execute_result"
    },
    {
     "data": {
      "image/png": "[encoded data removed]",
      "text/plain": [
       "<Figure size 640x480 with 1 Axes>"
      ]
     },
     "metadata": {},
     "output_type": "display_data"
    }
   ],
   "source": [
    "sns.histplot(data = credit, x='Own_Your_Home', hue = 'Offer_Accepted') "
   ]
  },
  {
   "cell_type": "code",
   "execution_count": 15,
   "id": "4146f795",
   "metadata": {},
   "outputs": [
    {
     "data": {
      "text/plain": [
       "<AxesSubplot:xlabel='Reward', ylabel='Count'>"
      ]
     },
     "execution_count": 15,
     "metadata": {},
     "output_type": "execute_result"
    },
    {
     "data": {
      "image/png": "[encoded data removed]",
      "text/plain": [
       "<Figure size 640x480 with 1 Axes>"
      ]
     },
     "metadata": {},
     "output_type": "display_data"
    }
   ],
   "source": [
    "sns.histplot(data = credit, x='Reward', hue = 'Offer_Accepted') "
   ]
  },
  {
   "cell_type": "code",
   "execution_count": 16,
   "id": "1f4fbf0f",
   "metadata": {},
   "outputs": [
    {
     "data": {
      "text/plain": [
       "<AxesSubplot:xlabel='Credit_Rating', ylabel='Count'>"
      ]
     },
     "execution_count": 16,
     "metadata": {},
     "output_type": "execute_result"
    },
    {
     "data": {
      "image/png": "[encoded data removed]",
      "text/plain": [
       "<Figure size 640x480 with 1 Axes>"
      ]
     },
     "metadata": {},
     "output_type": "display_data"
    }
   ],
   "source": [
    "sns.histplot(data = credit, x='Credit_Rating', hue = 'Offer_Accepted')"
   ]
  },
  {
   "cell_type": "code",
   "execution_count": 17,
   "id": "daac3577",
   "metadata": {},
   "outputs": [
    {
     "data": {
      "text/plain": [
       "<AxesSubplot:xlabel='Mailer_Type', ylabel='Count'>"
      ]
     },
     "execution_count": 17,
     "metadata": {},
     "output_type": "execute_result"
    },
    {
     "data": {
      "image/png": "[encoded data removed]",
      "text/plain": [
       "<Figure size 640x480 with 1 Axes>"
      ]
     },
     "metadata": {},
     "output_type": "display_data"
    }
   ],
   "source": [
    "sns.histplot(data = credit, x='Mailer_Type', hue = 'Offer_Accepted')"
   ]
  },
  {
   "cell_type": "code",
   "execution_count": 18,
   "id": "41c8fa7f",
   "metadata": {},
   "outputs": [
    {
     "data": {
      "text/plain": [
       "<AxesSubplot:xlabel='Income_Level', ylabel='Count'>"
      ]
     },
     "execution_count": 18,
     "metadata": {},
     "output_type": "execute_result"
    },
    {
     "data": {
      "image/png": "[encoded data removed]",
      "text/plain": [
       "<Figure size 640x480 with 1 Axes>"
      ]
     },
     "metadata": {},
     "output_type": "display_data"
    }
   ],
   "source": [
    "sns.histplot(data = credit, x='Income_Level', hue = 'Offer_Accepted')"
   ]
  },
  {
   "cell_type": "markdown",
   "id": "4ba9e0e8",
   "metadata": {},
   "source": [
    "#### No se ve muy bien con las gráficas tan desproporcionadas así que vamos a probar nuestra hipótesis de que los menos adinerados son los que más aceptan."
   ]
  },
  {
   "cell_type": "code",
   "execution_count": 19,
   "id": "8bdea3a2",
   "metadata": {},
   "outputs": [
    {
     "data": {
      "text/html": [
       "<div>\n",
       "<style scoped>\n",
       "    .dataframe tbody tr th:only-of-type {\n",
       "        vertical-align: middle;\n",
       "    }\n",
       "\n",
       "    .dataframe tbody tr th {\n",
       "        vertical-align: top;\n",
       "    }\n",
       "\n",
       "    .dataframe thead tr th {\n",
       "        text-align: left;\n",
       "    }\n",
       "\n",
       "    .dataframe thead tr:last-of-type th {\n",
       "        text-align: right;\n",
       "    }\n",
       "</style>\n",
       "<table border=\"1\" class=\"dataframe\">\n",
       "  <thead>\n",
       "    <tr>\n",
       "      <th></th>\n",
       "      <th colspan=\"3\" halign=\"left\">Homes_Owned</th>\n",
       "    </tr>\n",
       "    <tr>\n",
       "      <th>Income_Level</th>\n",
       "      <th>High</th>\n",
       "      <th>Low</th>\n",
       "      <th>Medium</th>\n",
       "    </tr>\n",
       "    <tr>\n",
       "      <th>Offer_Accepted</th>\n",
       "      <th></th>\n",
       "      <th></th>\n",
       "      <th></th>\n",
       "    </tr>\n",
       "  </thead>\n",
       "  <tbody>\n",
       "    <tr>\n",
       "      <th>No</th>\n",
       "      <td>4361</td>\n",
       "      <td>4073</td>\n",
       "      <td>8543</td>\n",
       "    </tr>\n",
       "    <tr>\n",
       "      <th>Yes</th>\n",
       "      <td>165</td>\n",
       "      <td>388</td>\n",
       "      <td>470</td>\n",
       "    </tr>\n",
       "  </tbody>\n",
       "</table>\n",
       "</div>"
      ],
      "text/plain": [
       "               Homes_Owned             \n",
       "Income_Level          High   Low Medium\n",
       "Offer_Accepted                         \n",
       "No                    4361  4073   8543\n",
       "Yes                    165   388    470"
      ]
     },
     "execution_count": 19,
     "metadata": {},
     "output_type": "execute_result"
    }
   ],
   "source": [
    "pd.pivot_table(credit[['Offer_Accepted','Income_Level','Homes_Owned']], index='Offer_Accepted', columns='Income_Level', aggfunc='count').fillna(0)"
   ]
  },
  {
   "cell_type": "code",
   "execution_count": 20,
   "id": "bdace14d",
   "metadata": {},
   "outputs": [
    {
     "data": {
      "text/html": [
       "<div>\n",
       "<style scoped>\n",
       "    .dataframe tbody tr th:only-of-type {\n",
       "        vertical-align: middle;\n",
       "    }\n",
       "\n",
       "    .dataframe tbody tr th {\n",
       "        vertical-align: top;\n",
       "    }\n",
       "\n",
       "    .dataframe thead tr th {\n",
       "        text-align: left;\n",
       "    }\n",
       "\n",
       "    .dataframe thead tr:last-of-type th {\n",
       "        text-align: right;\n",
       "    }\n",
       "</style>\n",
       "<table border=\"1\" class=\"dataframe\">\n",
       "  <thead>\n",
       "    <tr>\n",
       "      <th></th>\n",
       "      <th colspan=\"3\" halign=\"left\">Income_Level</th>\n",
       "    </tr>\n",
       "    <tr>\n",
       "      <th>Bank_Accounts_Open</th>\n",
       "      <th>1</th>\n",
       "      <th>2</th>\n",
       "      <th>3</th>\n",
       "    </tr>\n",
       "    <tr>\n",
       "      <th>Offer_Accepted</th>\n",
       "      <th></th>\n",
       "      <th></th>\n",
       "      <th></th>\n",
       "    </tr>\n",
       "  </thead>\n",
       "  <tbody>\n",
       "    <tr>\n",
       "      <th>No</th>\n",
       "      <td>12916</td>\n",
       "      <td>3778</td>\n",
       "      <td>283</td>\n",
       "    </tr>\n",
       "    <tr>\n",
       "      <th>Yes</th>\n",
       "      <td>776</td>\n",
       "      <td>234</td>\n",
       "      <td>13</td>\n",
       "    </tr>\n",
       "  </tbody>\n",
       "</table>\n",
       "</div>"
      ],
      "text/plain": [
       "                   Income_Level           \n",
       "Bank_Accounts_Open            1     2    3\n",
       "Offer_Accepted                            \n",
       "No                        12916  3778  283\n",
       "Yes                         776   234   13"
      ]
     },
     "execution_count": 20,
     "metadata": {},
     "output_type": "execute_result"
    }
   ],
   "source": [
    "pd.pivot_table(credit[['Offer_Accepted','Income_Level','Bank_Accounts_Open']], index='Offer_Accepted', columns='Bank_Accounts_Open', aggfunc='count')"
   ]
  },
  {
   "cell_type": "markdown",
   "id": "d25f5313",
   "metadata": {},
   "source": [
    "##### Muy mal balanceado, vamos a hacer uso de las librerías de imbalanced en el conjunto de entrenamiento más adelante para tener unos datos equilibrados, si no el modelo tendría mucho error."
   ]
  },
  {
   "cell_type": "markdown",
   "id": "d129ebf4",
   "metadata": {},
   "source": [
    "---"
   ]
  },
  {
   "cell_type": "markdown",
   "id": "2d321fc6",
   "metadata": {},
   "source": [
    "### Ahora vamos a ver qué parámetros vamos a usar para la Clasificación"
   ]
  },
  {
   "cell_type": "code",
   "execution_count": 21,
   "id": "760a6d18",
   "metadata": {},
   "outputs": [
    {
     "data": {
      "text/html": [
       "<div>\n",
       "<style scoped>\n",
       "    .dataframe tbody tr th:only-of-type {\n",
       "        vertical-align: middle;\n",
       "    }\n",
       "\n",
       "    .dataframe tbody tr th {\n",
       "        vertical-align: top;\n",
       "    }\n",
       "\n",
       "    .dataframe thead th {\n",
       "        text-align: right;\n",
       "    }\n",
       "</style>\n",
       "<table border=\"1\" class=\"dataframe\">\n",
       "  <thead>\n",
       "    <tr style=\"text-align: right;\">\n",
       "      <th></th>\n",
       "      <th>Customer_Number</th>\n",
       "      <th>Offer_Accepted</th>\n",
       "      <th>Reward</th>\n",
       "      <th>Mailer_Type</th>\n",
       "      <th>Income_Level</th>\n",
       "      <th>Bank_Accounts_Open</th>\n",
       "      <th>Overdraft_Protection</th>\n",
       "      <th>Credit_Rating</th>\n",
       "      <th>Credit_Cards_Held</th>\n",
       "      <th>Homes_Owned</th>\n",
       "      <th>Household_Size</th>\n",
       "      <th>Own_Your_Home</th>\n",
       "      <th>Average_Balance</th>\n",
       "    </tr>\n",
       "  </thead>\n",
       "  <tbody>\n",
       "    <tr>\n",
       "      <th>27</th>\n",
       "      <td>28</td>\n",
       "      <td>Yes</td>\n",
       "      <td>Air Miles</td>\n",
       "      <td>Letter</td>\n",
       "      <td>Medium</td>\n",
       "      <td>1</td>\n",
       "      <td>No</td>\n",
       "      <td>Low</td>\n",
       "      <td>1</td>\n",
       "      <td>1</td>\n",
       "      <td>2</td>\n",
       "      <td>No</td>\n",
       "      <td>769.50</td>\n",
       "    </tr>\n",
       "    <tr>\n",
       "      <th>45</th>\n",
       "      <td>46</td>\n",
       "      <td>Yes</td>\n",
       "      <td>Air Miles</td>\n",
       "      <td>Postcard</td>\n",
       "      <td>High</td>\n",
       "      <td>1</td>\n",
       "      <td>Yes</td>\n",
       "      <td>Low</td>\n",
       "      <td>2</td>\n",
       "      <td>1</td>\n",
       "      <td>5</td>\n",
       "      <td>Yes</td>\n",
       "      <td>851.25</td>\n",
       "    </tr>\n",
       "    <tr>\n",
       "      <th>50</th>\n",
       "      <td>51</td>\n",
       "      <td>Yes</td>\n",
       "      <td>Air Miles</td>\n",
       "      <td>Postcard</td>\n",
       "      <td>Low</td>\n",
       "      <td>1</td>\n",
       "      <td>No</td>\n",
       "      <td>High</td>\n",
       "      <td>2</td>\n",
       "      <td>1</td>\n",
       "      <td>2</td>\n",
       "      <td>Yes</td>\n",
       "      <td>931.75</td>\n",
       "    </tr>\n",
       "    <tr>\n",
       "      <th>57</th>\n",
       "      <td>58</td>\n",
       "      <td>Yes</td>\n",
       "      <td>Air Miles</td>\n",
       "      <td>Postcard</td>\n",
       "      <td>Low</td>\n",
       "      <td>1</td>\n",
       "      <td>No</td>\n",
       "      <td>Medium</td>\n",
       "      <td>1</td>\n",
       "      <td>1</td>\n",
       "      <td>2</td>\n",
       "      <td>Yes</td>\n",
       "      <td>1192.75</td>\n",
       "    </tr>\n",
       "    <tr>\n",
       "      <th>74</th>\n",
       "      <td>75</td>\n",
       "      <td>Yes</td>\n",
       "      <td>Cash Back</td>\n",
       "      <td>Postcard</td>\n",
       "      <td>High</td>\n",
       "      <td>1</td>\n",
       "      <td>No</td>\n",
       "      <td>Low</td>\n",
       "      <td>2</td>\n",
       "      <td>2</td>\n",
       "      <td>5</td>\n",
       "      <td>Yes</td>\n",
       "      <td>1329.50</td>\n",
       "    </tr>\n",
       "    <tr>\n",
       "      <th>...</th>\n",
       "      <td>...</td>\n",
       "      <td>...</td>\n",
       "      <td>...</td>\n",
       "      <td>...</td>\n",
       "      <td>...</td>\n",
       "      <td>...</td>\n",
       "      <td>...</td>\n",
       "      <td>...</td>\n",
       "      <td>...</td>\n",
       "      <td>...</td>\n",
       "      <td>...</td>\n",
       "      <td>...</td>\n",
       "      <td>...</td>\n",
       "    </tr>\n",
       "    <tr>\n",
       "      <th>17940</th>\n",
       "      <td>17941</td>\n",
       "      <td>Yes</td>\n",
       "      <td>Air Miles</td>\n",
       "      <td>Postcard</td>\n",
       "      <td>Medium</td>\n",
       "      <td>1</td>\n",
       "      <td>Yes</td>\n",
       "      <td>Low</td>\n",
       "      <td>2</td>\n",
       "      <td>1</td>\n",
       "      <td>4</td>\n",
       "      <td>Yes</td>\n",
       "      <td>1140.25</td>\n",
       "    </tr>\n",
       "    <tr>\n",
       "      <th>17942</th>\n",
       "      <td>17943</td>\n",
       "      <td>Yes</td>\n",
       "      <td>Air Miles</td>\n",
       "      <td>Postcard</td>\n",
       "      <td>Low</td>\n",
       "      <td>1</td>\n",
       "      <td>No</td>\n",
       "      <td>Medium</td>\n",
       "      <td>1</td>\n",
       "      <td>1</td>\n",
       "      <td>3</td>\n",
       "      <td>Yes</td>\n",
       "      <td>1026.25</td>\n",
       "    </tr>\n",
       "    <tr>\n",
       "      <th>17971</th>\n",
       "      <td>17972</td>\n",
       "      <td>Yes</td>\n",
       "      <td>Cash Back</td>\n",
       "      <td>Postcard</td>\n",
       "      <td>Low</td>\n",
       "      <td>1</td>\n",
       "      <td>No</td>\n",
       "      <td>High</td>\n",
       "      <td>2</td>\n",
       "      <td>2</td>\n",
       "      <td>4</td>\n",
       "      <td>Yes</td>\n",
       "      <td>1221.75</td>\n",
       "    </tr>\n",
       "    <tr>\n",
       "      <th>17984</th>\n",
       "      <td>17985</td>\n",
       "      <td>Yes</td>\n",
       "      <td>Points</td>\n",
       "      <td>Postcard</td>\n",
       "      <td>High</td>\n",
       "      <td>1</td>\n",
       "      <td>No</td>\n",
       "      <td>Low</td>\n",
       "      <td>2</td>\n",
       "      <td>1</td>\n",
       "      <td>2</td>\n",
       "      <td>No</td>\n",
       "      <td>977.25</td>\n",
       "    </tr>\n",
       "    <tr>\n",
       "      <th>17991</th>\n",
       "      <td>17992</td>\n",
       "      <td>Yes</td>\n",
       "      <td>Points</td>\n",
       "      <td>Postcard</td>\n",
       "      <td>Low</td>\n",
       "      <td>1</td>\n",
       "      <td>No</td>\n",
       "      <td>Low</td>\n",
       "      <td>3</td>\n",
       "      <td>2</td>\n",
       "      <td>4</td>\n",
       "      <td>Yes</td>\n",
       "      <td>1046.50</td>\n",
       "    </tr>\n",
       "  </tbody>\n",
       "</table>\n",
       "<p>1023 rows × 13 columns</p>\n",
       "</div>"
      ],
      "text/plain": [
       "       Customer_Number Offer_Accepted     Reward Mailer_Type Income_Level  \\\n",
       "27                  28            Yes  Air Miles      Letter       Medium   \n",
       "45                  46            Yes  Air Miles    Postcard         High   \n",
       "50                  51            Yes  Air Miles    Postcard          Low   \n",
       "57                  58            Yes  Air Miles    Postcard          Low   \n",
       "74                  75            Yes  Cash Back    Postcard         High   \n",
       "...                ...            ...        ...         ...          ...   \n",
       "17940            17941            Yes  Air Miles    Postcard       Medium   \n",
       "17942            17943            Yes  Air Miles    Postcard          Low   \n",
       "17971            17972            Yes  Cash Back    Postcard          Low   \n",
       "17984            17985            Yes     Points    Postcard         High   \n",
       "17991            17992            Yes     Points    Postcard          Low   \n",
       "\n",
       "       Bank_Accounts_Open Overdraft_Protection Credit_Rating  \\\n",
       "27                      1                   No           Low   \n",
       "45                      1                  Yes           Low   \n",
       "50                      1                   No          High   \n",
       "57                      1                   No        Medium   \n",
       "74                      1                   No           Low   \n",
       "...                   ...                  ...           ...   \n",
       "17940                   1                  Yes           Low   \n",
       "17942                   1                   No        Medium   \n",
       "17971                   1                   No          High   \n",
       "17984                   1                   No           Low   \n",
       "17991                   1                   No           Low   \n",
       "\n",
       "       Credit_Cards_Held  Homes_Owned  Household_Size Own_Your_Home  \\\n",
       "27                     1            1               2            No   \n",
       "45                     2            1               5           Yes   \n",
       "50                     2            1               2           Yes   \n",
       "57                     1            1               2           Yes   \n",
       "74                     2            2               5           Yes   \n",
       "...                  ...          ...             ...           ...   \n",
       "17940                  2            1               4           Yes   \n",
       "17942                  1            1               3           Yes   \n",
       "17971                  2            2               4           Yes   \n",
       "17984                  2            1               2            No   \n",
       "17991                  3            2               4           Yes   \n",
       "\n",
       "       Average_Balance  \n",
       "27              769.50  \n",
       "45              851.25  \n",
       "50              931.75  \n",
       "57             1192.75  \n",
       "74             1329.50  \n",
       "...                ...  \n",
       "17940          1140.25  \n",
       "17942          1026.25  \n",
       "17971          1221.75  \n",
       "17984           977.25  \n",
       "17991          1046.50  \n",
       "\n",
       "[1023 rows x 13 columns]"
      ]
     },
     "execution_count": 21,
     "metadata": {},
     "output_type": "execute_result"
    }
   ],
   "source": [
    "credit[credit['Offer_Accepted']=='Yes']"
   ]
  },
  {
   "cell_type": "code",
   "execution_count": 22,
   "id": "7370f5f2",
   "metadata": {},
   "outputs": [
    {
     "name": "stdout",
     "output_type": "stream",
     "text": [
      "['No' 'Yes']\n",
      "['High' 'Medium' 'Low']\n",
      "['Letter' 'Postcard']\n",
      "['Air Miles' 'Cash Back' 'Points']\n",
      "['High' 'Medium' 'Low']\n",
      "['No' 'Yes']\n",
      "['No' 'Yes']\n",
      "[1 2 3]\n"
     ]
    }
   ],
   "source": [
    "# Veo las que comparten un patrón a la hora de aceptar la oferta.\n",
    "print(credit['Offer_Accepted'].unique())\n",
    "print(credit['Income_Level'].unique())\n",
    "print(credit['Mailer_Type'].unique())\n",
    "print(credit['Reward'].unique())\n",
    "print(credit['Credit_Rating'].unique())\n",
    "print(credit['Own_Your_Home'].unique())\n",
    "print(credit['Overdraft_Protection'].unique())\n",
    "print(credit['Bank_Accounts_Open'].unique())"
   ]
  },
  {
   "cell_type": "code",
   "execution_count": 23,
   "id": "295911be",
   "metadata": {},
   "outputs": [
    {
     "data": {
      "text/html": [
       "<div>\n",
       "<style scoped>\n",
       "    .dataframe tbody tr th:only-of-type {\n",
       "        vertical-align: middle;\n",
       "    }\n",
       "\n",
       "    .dataframe tbody tr th {\n",
       "        vertical-align: top;\n",
       "    }\n",
       "\n",
       "    .dataframe thead th {\n",
       "        text-align: right;\n",
       "    }\n",
       "</style>\n",
       "<table border=\"1\" class=\"dataframe\">\n",
       "  <thead>\n",
       "    <tr style=\"text-align: right;\">\n",
       "      <th></th>\n",
       "      <th>Customer_Number</th>\n",
       "      <th>Offer_Accepted</th>\n",
       "      <th>Reward</th>\n",
       "      <th>Mailer_Type</th>\n",
       "      <th>Income_Level</th>\n",
       "      <th>Bank_Accounts_Open</th>\n",
       "      <th>Overdraft_Protection</th>\n",
       "      <th>Credit_Rating</th>\n",
       "      <th>Credit_Cards_Held</th>\n",
       "      <th>Homes_Owned</th>\n",
       "      <th>Household_Size</th>\n",
       "      <th>Own_Your_Home</th>\n",
       "      <th>Average_Balance</th>\n",
       "      <th>Average_Balance_st</th>\n",
       "      <th>Average_Balance_MM</th>\n",
       "    </tr>\n",
       "  </thead>\n",
       "  <tbody>\n",
       "    <tr>\n",
       "      <th>0</th>\n",
       "      <td>1</td>\n",
       "      <td>No</td>\n",
       "      <td>Air Miles</td>\n",
       "      <td>Letter</td>\n",
       "      <td>High</td>\n",
       "      <td>1</td>\n",
       "      <td>No</td>\n",
       "      <td>High</td>\n",
       "      <td>2</td>\n",
       "      <td>1</td>\n",
       "      <td>4</td>\n",
       "      <td>No</td>\n",
       "      <td>1160.75</td>\n",
       "      <td>0.629143</td>\n",
       "      <td>0.335292</td>\n",
       "    </tr>\n",
       "    <tr>\n",
       "      <th>1</th>\n",
       "      <td>2</td>\n",
       "      <td>No</td>\n",
       "      <td>Air Miles</td>\n",
       "      <td>Letter</td>\n",
       "      <td>Medium</td>\n",
       "      <td>1</td>\n",
       "      <td>No</td>\n",
       "      <td>Medium</td>\n",
       "      <td>2</td>\n",
       "      <td>2</td>\n",
       "      <td>5</td>\n",
       "      <td>Yes</td>\n",
       "      <td>147.25</td>\n",
       "      <td>-2.266120</td>\n",
       "      <td>0.029837</td>\n",
       "    </tr>\n",
       "    <tr>\n",
       "      <th>2</th>\n",
       "      <td>3</td>\n",
       "      <td>No</td>\n",
       "      <td>Air Miles</td>\n",
       "      <td>Postcard</td>\n",
       "      <td>High</td>\n",
       "      <td>2</td>\n",
       "      <td>No</td>\n",
       "      <td>Medium</td>\n",
       "      <td>2</td>\n",
       "      <td>1</td>\n",
       "      <td>2</td>\n",
       "      <td>Yes</td>\n",
       "      <td>276.50</td>\n",
       "      <td>-1.896892</td>\n",
       "      <td>0.068791</td>\n",
       "    </tr>\n",
       "    <tr>\n",
       "      <th>3</th>\n",
       "      <td>4</td>\n",
       "      <td>No</td>\n",
       "      <td>Air Miles</td>\n",
       "      <td>Letter</td>\n",
       "      <td>Medium</td>\n",
       "      <td>2</td>\n",
       "      <td>No</td>\n",
       "      <td>High</td>\n",
       "      <td>1</td>\n",
       "      <td>1</td>\n",
       "      <td>4</td>\n",
       "      <td>No</td>\n",
       "      <td>1219.00</td>\n",
       "      <td>0.795546</td>\n",
       "      <td>0.352848</td>\n",
       "    </tr>\n",
       "    <tr>\n",
       "      <th>4</th>\n",
       "      <td>5</td>\n",
       "      <td>No</td>\n",
       "      <td>Air Miles</td>\n",
       "      <td>Letter</td>\n",
       "      <td>Medium</td>\n",
       "      <td>1</td>\n",
       "      <td>No</td>\n",
       "      <td>Medium</td>\n",
       "      <td>2</td>\n",
       "      <td>1</td>\n",
       "      <td>6</td>\n",
       "      <td>Yes</td>\n",
       "      <td>1211.00</td>\n",
       "      <td>0.772692</td>\n",
       "      <td>0.350437</td>\n",
       "    </tr>\n",
       "    <tr>\n",
       "      <th>...</th>\n",
       "      <td>...</td>\n",
       "      <td>...</td>\n",
       "      <td>...</td>\n",
       "      <td>...</td>\n",
       "      <td>...</td>\n",
       "      <td>...</td>\n",
       "      <td>...</td>\n",
       "      <td>...</td>\n",
       "      <td>...</td>\n",
       "      <td>...</td>\n",
       "      <td>...</td>\n",
       "      <td>...</td>\n",
       "      <td>...</td>\n",
       "      <td>...</td>\n",
       "      <td>...</td>\n",
       "    </tr>\n",
       "    <tr>\n",
       "      <th>17995</th>\n",
       "      <td>17996</td>\n",
       "      <td>No</td>\n",
       "      <td>Cash Back</td>\n",
       "      <td>Letter</td>\n",
       "      <td>High</td>\n",
       "      <td>1</td>\n",
       "      <td>No</td>\n",
       "      <td>Low</td>\n",
       "      <td>1</td>\n",
       "      <td>1</td>\n",
       "      <td>5</td>\n",
       "      <td>Yes</td>\n",
       "      <td>167.50</td>\n",
       "      <td>-2.208272</td>\n",
       "      <td>0.035940</td>\n",
       "    </tr>\n",
       "    <tr>\n",
       "      <th>17996</th>\n",
       "      <td>17997</td>\n",
       "      <td>No</td>\n",
       "      <td>Cash Back</td>\n",
       "      <td>Letter</td>\n",
       "      <td>High</td>\n",
       "      <td>1</td>\n",
       "      <td>No</td>\n",
       "      <td>Low</td>\n",
       "      <td>3</td>\n",
       "      <td>1</td>\n",
       "      <td>3</td>\n",
       "      <td>Yes</td>\n",
       "      <td>850.50</td>\n",
       "      <td>-0.257147</td>\n",
       "      <td>0.241787</td>\n",
       "    </tr>\n",
       "    <tr>\n",
       "      <th>17997</th>\n",
       "      <td>17998</td>\n",
       "      <td>No</td>\n",
       "      <td>Cash Back</td>\n",
       "      <td>Letter</td>\n",
       "      <td>High</td>\n",
       "      <td>1</td>\n",
       "      <td>No</td>\n",
       "      <td>Low</td>\n",
       "      <td>2</td>\n",
       "      <td>1</td>\n",
       "      <td>4</td>\n",
       "      <td>No</td>\n",
       "      <td>1087.25</td>\n",
       "      <td>0.419176</td>\n",
       "      <td>0.313140</td>\n",
       "    </tr>\n",
       "    <tr>\n",
       "      <th>17998</th>\n",
       "      <td>17999</td>\n",
       "      <td>No</td>\n",
       "      <td>Cash Back</td>\n",
       "      <td>Letter</td>\n",
       "      <td>Medium</td>\n",
       "      <td>1</td>\n",
       "      <td>No</td>\n",
       "      <td>Medium</td>\n",
       "      <td>4</td>\n",
       "      <td>2</td>\n",
       "      <td>2</td>\n",
       "      <td>Yes</td>\n",
       "      <td>1022.25</td>\n",
       "      <td>0.233491</td>\n",
       "      <td>0.293550</td>\n",
       "    </tr>\n",
       "    <tr>\n",
       "      <th>17999</th>\n",
       "      <td>18000</td>\n",
       "      <td>No</td>\n",
       "      <td>Cash Back</td>\n",
       "      <td>Letter</td>\n",
       "      <td>Low</td>\n",
       "      <td>2</td>\n",
       "      <td>No</td>\n",
       "      <td>Medium</td>\n",
       "      <td>2</td>\n",
       "      <td>1</td>\n",
       "      <td>3</td>\n",
       "      <td>No</td>\n",
       "      <td>1056.00</td>\n",
       "      <td>0.329904</td>\n",
       "      <td>0.303722</td>\n",
       "    </tr>\n",
       "  </tbody>\n",
       "</table>\n",
       "<p>18000 rows × 15 columns</p>\n",
       "</div>"
      ],
      "text/plain": [
       "       Customer_Number Offer_Accepted     Reward Mailer_Type Income_Level  \\\n",
       "0                    1             No  Air Miles      Letter         High   \n",
       "1                    2             No  Air Miles      Letter       Medium   \n",
       "2                    3             No  Air Miles    Postcard         High   \n",
       "3                    4             No  Air Miles      Letter       Medium   \n",
       "4                    5             No  Air Miles      Letter       Medium   \n",
       "...                ...            ...        ...         ...          ...   \n",
       "17995            17996             No  Cash Back      Letter         High   \n",
       "17996            17997             No  Cash Back      Letter         High   \n",
       "17997            17998             No  Cash Back      Letter         High   \n",
       "17998            17999             No  Cash Back      Letter       Medium   \n",
       "17999            18000             No  Cash Back      Letter          Low   \n",
       "\n",
       "       Bank_Accounts_Open Overdraft_Protection Credit_Rating  \\\n",
       "0                       1                   No          High   \n",
       "1                       1                   No        Medium   \n",
       "2                       2                   No        Medium   \n",
       "3                       2                   No          High   \n",
       "4                       1                   No        Medium   \n",
       "...                   ...                  ...           ...   \n",
       "17995                   1                   No           Low   \n",
       "17996                   1                   No           Low   \n",
       "17997                   1                   No           Low   \n",
       "17998                   1                   No        Medium   \n",
       "17999                   2                   No        Medium   \n",
       "\n",
       "       Credit_Cards_Held  Homes_Owned  Household_Size Own_Your_Home  \\\n",
       "0                      2            1               4            No   \n",
       "1                      2            2               5           Yes   \n",
       "2                      2            1               2           Yes   \n",
       "3                      1            1               4            No   \n",
       "4                      2            1               6           Yes   \n",
       "...                  ...          ...             ...           ...   \n",
       "17995                  1            1               5           Yes   \n",
       "17996                  3            1               3           Yes   \n",
       "17997                  2            1               4            No   \n",
       "17998                  4            2               2           Yes   \n",
       "17999                  2            1               3            No   \n",
       "\n",
       "       Average_Balance  Average_Balance_st  Average_Balance_MM  \n",
       "0              1160.75            0.629143            0.335292  \n",
       "1               147.25           -2.266120            0.029837  \n",
       "2               276.50           -1.896892            0.068791  \n",
       "3              1219.00            0.795546            0.352848  \n",
       "4              1211.00            0.772692            0.350437  \n",
       "...                ...                 ...                 ...  \n",
       "17995           167.50           -2.208272            0.035940  \n",
       "17996           850.50           -0.257147            0.241787  \n",
       "17997          1087.25            0.419176            0.313140  \n",
       "17998          1022.25            0.233491            0.293550  \n",
       "17999          1056.00            0.329904            0.303722  \n",
       "\n",
       "[18000 rows x 15 columns]"
      ]
     },
     "execution_count": 23,
     "metadata": {},
     "output_type": "execute_result"
    }
   ],
   "source": [
    "scaler = StandardScaler()\n",
    "minmax = MinMaxScaler()\n",
    "credit['Average_Balance_st'] = scaler.fit_transform(credit[['Average_Balance']])\n",
    "credit['Average_Balance_MM'] = minmax.fit_transform(credit[['Average_Balance']])\n",
    "credit"
   ]
  },
  {
   "cell_type": "markdown",
   "id": "8a03b38c",
   "metadata": {},
   "source": [
    "#### Usamos .LabelEncoder() para convertir en el tipo de variable adecuado para que funcione la función dummy"
   ]
  },
  {
   "cell_type": "code",
   "execution_count": 24,
   "id": "04266c70",
   "metadata": {},
   "outputs": [],
   "source": [
    "credit['Bank_Accounts_Open'] = credit['Bank_Accounts_Open'].astype('str')"
   ]
  },
  {
   "cell_type": "code",
   "execution_count": 25,
   "id": "e278058c",
   "metadata": {},
   "outputs": [],
   "source": [
    "label_encoder = preprocessing.LabelEncoder()"
   ]
  },
  {
   "cell_type": "markdown",
   "id": "26a12268",
   "metadata": {},
   "source": [
    "### Convertimos las variables en dummies para conseguir una mejor clasificación"
   ]
  },
  {
   "cell_type": "code",
   "execution_count": 26,
   "id": "67ad22b3",
   "metadata": {},
   "outputs": [
    {
     "data": {
      "text/html": [
       "<div>\n",
       "<style scoped>\n",
       "    .dataframe tbody tr th:only-of-type {\n",
       "        vertical-align: middle;\n",
       "    }\n",
       "\n",
       "    .dataframe tbody tr th {\n",
       "        vertical-align: top;\n",
       "    }\n",
       "\n",
       "    .dataframe thead th {\n",
       "        text-align: right;\n",
       "    }\n",
       "</style>\n",
       "<table border=\"1\" class=\"dataframe\">\n",
       "  <thead>\n",
       "    <tr style=\"text-align: right;\">\n",
       "      <th></th>\n",
       "      <th>Income_Level_High</th>\n",
       "      <th>Income_Level_Low</th>\n",
       "      <th>Income_Level_Medium</th>\n",
       "      <th>Mailer_Type_Letter</th>\n",
       "      <th>Mailer_Type_Postcard</th>\n",
       "      <th>Reward_Air Miles</th>\n",
       "      <th>Reward_Cash Back</th>\n",
       "      <th>Reward_Points</th>\n",
       "      <th>Credit_Rating_High</th>\n",
       "      <th>Credit_Rating_Low</th>\n",
       "      <th>Credit_Rating_Medium</th>\n",
       "      <th>Own_Your_Home_No</th>\n",
       "      <th>Own_Your_Home_Yes</th>\n",
       "      <th>Overdraft_Protection_No</th>\n",
       "      <th>Overdraft_Protection_Yes</th>\n",
       "      <th>Bank_Accounts_Open_1</th>\n",
       "      <th>Bank_Accounts_Open_2</th>\n",
       "      <th>Bank_Accounts_Open_3</th>\n",
       "      <th>Offer_Accepted</th>\n",
       "      <th>Average_Balance_MM</th>\n",
       "    </tr>\n",
       "  </thead>\n",
       "  <tbody>\n",
       "    <tr>\n",
       "      <th>0</th>\n",
       "      <td>1</td>\n",
       "      <td>0</td>\n",
       "      <td>0</td>\n",
       "      <td>1</td>\n",
       "      <td>0</td>\n",
       "      <td>1</td>\n",
       "      <td>0</td>\n",
       "      <td>0</td>\n",
       "      <td>1</td>\n",
       "      <td>0</td>\n",
       "      <td>0</td>\n",
       "      <td>1</td>\n",
       "      <td>0</td>\n",
       "      <td>1</td>\n",
       "      <td>0</td>\n",
       "      <td>1</td>\n",
       "      <td>0</td>\n",
       "      <td>0</td>\n",
       "      <td>0</td>\n",
       "      <td>0.335292</td>\n",
       "    </tr>\n",
       "    <tr>\n",
       "      <th>1</th>\n",
       "      <td>0</td>\n",
       "      <td>0</td>\n",
       "      <td>1</td>\n",
       "      <td>1</td>\n",
       "      <td>0</td>\n",
       "      <td>1</td>\n",
       "      <td>0</td>\n",
       "      <td>0</td>\n",
       "      <td>0</td>\n",
       "      <td>0</td>\n",
       "      <td>1</td>\n",
       "      <td>0</td>\n",
       "      <td>1</td>\n",
       "      <td>1</td>\n",
       "      <td>0</td>\n",
       "      <td>1</td>\n",
       "      <td>0</td>\n",
       "      <td>0</td>\n",
       "      <td>0</td>\n",
       "      <td>0.029837</td>\n",
       "    </tr>\n",
       "    <tr>\n",
       "      <th>2</th>\n",
       "      <td>1</td>\n",
       "      <td>0</td>\n",
       "      <td>0</td>\n",
       "      <td>0</td>\n",
       "      <td>1</td>\n",
       "      <td>1</td>\n",
       "      <td>0</td>\n",
       "      <td>0</td>\n",
       "      <td>0</td>\n",
       "      <td>0</td>\n",
       "      <td>1</td>\n",
       "      <td>0</td>\n",
       "      <td>1</td>\n",
       "      <td>1</td>\n",
       "      <td>0</td>\n",
       "      <td>0</td>\n",
       "      <td>1</td>\n",
       "      <td>0</td>\n",
       "      <td>0</td>\n",
       "      <td>0.068791</td>\n",
       "    </tr>\n",
       "    <tr>\n",
       "      <th>3</th>\n",
       "      <td>0</td>\n",
       "      <td>0</td>\n",
       "      <td>1</td>\n",
       "      <td>1</td>\n",
       "      <td>0</td>\n",
       "      <td>1</td>\n",
       "      <td>0</td>\n",
       "      <td>0</td>\n",
       "      <td>1</td>\n",
       "      <td>0</td>\n",
       "      <td>0</td>\n",
       "      <td>1</td>\n",
       "      <td>0</td>\n",
       "      <td>1</td>\n",
       "      <td>0</td>\n",
       "      <td>0</td>\n",
       "      <td>1</td>\n",
       "      <td>0</td>\n",
       "      <td>0</td>\n",
       "      <td>0.352848</td>\n",
       "    </tr>\n",
       "    <tr>\n",
       "      <th>4</th>\n",
       "      <td>0</td>\n",
       "      <td>0</td>\n",
       "      <td>1</td>\n",
       "      <td>1</td>\n",
       "      <td>0</td>\n",
       "      <td>1</td>\n",
       "      <td>0</td>\n",
       "      <td>0</td>\n",
       "      <td>0</td>\n",
       "      <td>0</td>\n",
       "      <td>1</td>\n",
       "      <td>0</td>\n",
       "      <td>1</td>\n",
       "      <td>1</td>\n",
       "      <td>0</td>\n",
       "      <td>1</td>\n",
       "      <td>0</td>\n",
       "      <td>0</td>\n",
       "      <td>0</td>\n",
       "      <td>0.350437</td>\n",
       "    </tr>\n",
       "    <tr>\n",
       "      <th>...</th>\n",
       "      <td>...</td>\n",
       "      <td>...</td>\n",
       "      <td>...</td>\n",
       "      <td>...</td>\n",
       "      <td>...</td>\n",
       "      <td>...</td>\n",
       "      <td>...</td>\n",
       "      <td>...</td>\n",
       "      <td>...</td>\n",
       "      <td>...</td>\n",
       "      <td>...</td>\n",
       "      <td>...</td>\n",
       "      <td>...</td>\n",
       "      <td>...</td>\n",
       "      <td>...</td>\n",
       "      <td>...</td>\n",
       "      <td>...</td>\n",
       "      <td>...</td>\n",
       "      <td>...</td>\n",
       "      <td>...</td>\n",
       "    </tr>\n",
       "    <tr>\n",
       "      <th>17995</th>\n",
       "      <td>1</td>\n",
       "      <td>0</td>\n",
       "      <td>0</td>\n",
       "      <td>1</td>\n",
       "      <td>0</td>\n",
       "      <td>0</td>\n",
       "      <td>1</td>\n",
       "      <td>0</td>\n",
       "      <td>0</td>\n",
       "      <td>1</td>\n",
       "      <td>0</td>\n",
       "      <td>0</td>\n",
       "      <td>1</td>\n",
       "      <td>1</td>\n",
       "      <td>0</td>\n",
       "      <td>1</td>\n",
       "      <td>0</td>\n",
       "      <td>0</td>\n",
       "      <td>0</td>\n",
       "      <td>0.035940</td>\n",
       "    </tr>\n",
       "    <tr>\n",
       "      <th>17996</th>\n",
       "      <td>1</td>\n",
       "      <td>0</td>\n",
       "      <td>0</td>\n",
       "      <td>1</td>\n",
       "      <td>0</td>\n",
       "      <td>0</td>\n",
       "      <td>1</td>\n",
       "      <td>0</td>\n",
       "      <td>0</td>\n",
       "      <td>1</td>\n",
       "      <td>0</td>\n",
       "      <td>0</td>\n",
       "      <td>1</td>\n",
       "      <td>1</td>\n",
       "      <td>0</td>\n",
       "      <td>1</td>\n",
       "      <td>0</td>\n",
       "      <td>0</td>\n",
       "      <td>0</td>\n",
       "      <td>0.241787</td>\n",
       "    </tr>\n",
       "    <tr>\n",
       "      <th>17997</th>\n",
       "      <td>1</td>\n",
       "      <td>0</td>\n",
       "      <td>0</td>\n",
       "      <td>1</td>\n",
       "      <td>0</td>\n",
       "      <td>0</td>\n",
       "      <td>1</td>\n",
       "      <td>0</td>\n",
       "      <td>0</td>\n",
       "      <td>1</td>\n",
       "      <td>0</td>\n",
       "      <td>1</td>\n",
       "      <td>0</td>\n",
       "      <td>1</td>\n",
       "      <td>0</td>\n",
       "      <td>1</td>\n",
       "      <td>0</td>\n",
       "      <td>0</td>\n",
       "      <td>0</td>\n",
       "      <td>0.313140</td>\n",
       "    </tr>\n",
       "    <tr>\n",
       "      <th>17998</th>\n",
       "      <td>0</td>\n",
       "      <td>0</td>\n",
       "      <td>1</td>\n",
       "      <td>1</td>\n",
       "      <td>0</td>\n",
       "      <td>0</td>\n",
       "      <td>1</td>\n",
       "      <td>0</td>\n",
       "      <td>0</td>\n",
       "      <td>0</td>\n",
       "      <td>1</td>\n",
       "      <td>0</td>\n",
       "      <td>1</td>\n",
       "      <td>1</td>\n",
       "      <td>0</td>\n",
       "      <td>1</td>\n",
       "      <td>0</td>\n",
       "      <td>0</td>\n",
       "      <td>0</td>\n",
       "      <td>0.293550</td>\n",
       "    </tr>\n",
       "    <tr>\n",
       "      <th>17999</th>\n",
       "      <td>0</td>\n",
       "      <td>1</td>\n",
       "      <td>0</td>\n",
       "      <td>1</td>\n",
       "      <td>0</td>\n",
       "      <td>0</td>\n",
       "      <td>1</td>\n",
       "      <td>0</td>\n",
       "      <td>0</td>\n",
       "      <td>0</td>\n",
       "      <td>1</td>\n",
       "      <td>1</td>\n",
       "      <td>0</td>\n",
       "      <td>1</td>\n",
       "      <td>0</td>\n",
       "      <td>0</td>\n",
       "      <td>1</td>\n",
       "      <td>0</td>\n",
       "      <td>0</td>\n",
       "      <td>0.303722</td>\n",
       "    </tr>\n",
       "  </tbody>\n",
       "</table>\n",
       "<p>18000 rows × 20 columns</p>\n",
       "</div>"
      ],
      "text/plain": [
       "       Income_Level_High  Income_Level_Low  Income_Level_Medium  \\\n",
       "0                      1                 0                    0   \n",
       "1                      0                 0                    1   \n",
       "2                      1                 0                    0   \n",
       "3                      0                 0                    1   \n",
       "4                      0                 0                    1   \n",
       "...                  ...               ...                  ...   \n",
       "17995                  1                 0                    0   \n",
       "17996                  1                 0                    0   \n",
       "17997                  1                 0                    0   \n",
       "17998                  0                 0                    1   \n",
       "17999                  0                 1                    0   \n",
       "\n",
       "       Mailer_Type_Letter  Mailer_Type_Postcard  Reward_Air Miles  \\\n",
       "0                       1                     0                 1   \n",
       "1                       1                     0                 1   \n",
       "2                       0                     1                 1   \n",
       "3                       1                     0                 1   \n",
       "4                       1                     0                 1   \n",
       "...                   ...                   ...               ...   \n",
       "17995                   1                     0                 0   \n",
       "17996                   1                     0                 0   \n",
       "17997                   1                     0                 0   \n",
       "17998                   1                     0                 0   \n",
       "17999                   1                     0                 0   \n",
       "\n",
       "       Reward_Cash Back  Reward_Points  Credit_Rating_High  Credit_Rating_Low  \\\n",
       "0                     0              0                   1                  0   \n",
       "1                     0              0                   0                  0   \n",
       "2                     0              0                   0                  0   \n",
       "3                     0              0                   1                  0   \n",
       "4                     0              0                   0                  0   \n",
       "...                 ...            ...                 ...                ...   \n",
       "17995                 1              0                   0                  1   \n",
       "17996                 1              0                   0                  1   \n",
       "17997                 1              0                   0                  1   \n",
       "17998                 1              0                   0                  0   \n",
       "17999                 1              0                   0                  0   \n",
       "\n",
       "       Credit_Rating_Medium  Own_Your_Home_No  Own_Your_Home_Yes  \\\n",
       "0                         0                 1                  0   \n",
       "1                         1                 0                  1   \n",
       "2                         1                 0                  1   \n",
       "3                         0                 1                  0   \n",
       "4                         1                 0                  1   \n",
       "...                     ...               ...                ...   \n",
       "17995                     0                 0                  1   \n",
       "17996                     0                 0                  1   \n",
       "17997                     0                 1                  0   \n",
       "17998                     1                 0                  1   \n",
       "17999                     1                 1                  0   \n",
       "\n",
       "       Overdraft_Protection_No  Overdraft_Protection_Yes  \\\n",
       "0                            1                         0   \n",
       "1                            1                         0   \n",
       "2                            1                         0   \n",
       "3                            1                         0   \n",
       "4                            1                         0   \n",
       "...                        ...                       ...   \n",
       "17995                        1                         0   \n",
       "17996                        1                         0   \n",
       "17997                        1                         0   \n",
       "17998                        1                         0   \n",
       "17999                        1                         0   \n",
       "\n",
       "       Bank_Accounts_Open_1  Bank_Accounts_Open_2  Bank_Accounts_Open_3  \\\n",
       "0                         1                     0                     0   \n",
       "1                         1                     0                     0   \n",
       "2                         0                     1                     0   \n",
       "3                         0                     1                     0   \n",
       "4                         1                     0                     0   \n",
       "...                     ...                   ...                   ...   \n",
       "17995                     1                     0                     0   \n",
       "17996                     1                     0                     0   \n",
       "17997                     1                     0                     0   \n",
       "17998                     1                     0                     0   \n",
       "17999                     0                     1                     0   \n",
       "\n",
       "       Offer_Accepted  Average_Balance_MM  \n",
       "0                   0            0.335292  \n",
       "1                   0            0.029837  \n",
       "2                   0            0.068791  \n",
       "3                   0            0.352848  \n",
       "4                   0            0.350437  \n",
       "...               ...                 ...  \n",
       "17995               0            0.035940  \n",
       "17996               0            0.241787  \n",
       "17997               0            0.313140  \n",
       "17998               0            0.293550  \n",
       "17999               0            0.303722  \n",
       "\n",
       "[18000 rows x 20 columns]"
      ]
     },
     "execution_count": 26,
     "metadata": {},
     "output_type": "execute_result"
    }
   ],
   "source": [
    "credit_dum = pd.get_dummies(credit[['Income_Level','Mailer_Type','Reward','Credit_Rating','Own_Your_Home','Overdraft_Protection','Bank_Accounts_Open']])\n",
    "credit_dum['Offer_Accepted']= label_encoder.fit_transform(credit['Offer_Accepted'])\n",
    "credit_dum['Average_Balance_MM'] = credit['Average_Balance_MM']\n",
    "credit_dum"
   ]
  },
  {
   "cell_type": "code",
   "execution_count": 27,
   "id": "146767c9",
   "metadata": {},
   "outputs": [],
   "source": [
    "#Vamos a dejar algunas opciones fuera de la prueba pues por ejemplo, si tenemos tres tipos de Income; bajo medio y alto, solo necesitamos dos, pues el otro se asume, y así.\n",
    "X = credit_dum.drop(columns=['Income_Level_High','Mailer_Type_Letter','Reward_Air Miles','Credit_Rating_High','Own_Your_Home_No','Overdraft_Protection_No','Bank_Accounts_Open_3','Offer_Accepted'])\n",
    "y = credit_dum['Offer_Accepted']"
   ]
  },
  {
   "cell_type": "code",
   "execution_count": 28,
   "id": "4f9ab86b",
   "metadata": {},
   "outputs": [],
   "source": [
    "X_train, X_test, y_train, y_test = train_test_split(X, y, train_size = 0.8, random_state=42)"
   ]
  },
  {
   "cell_type": "markdown",
   "id": "9eced285",
   "metadata": {},
   "source": [
    "#### Equilibramos el conjunto de Train"
   ]
  },
  {
   "cell_type": "code",
   "execution_count": 29,
   "id": "0c78b04d",
   "metadata": {},
   "outputs": [],
   "source": [
    "# Vamos a probar el over sampling."
   ]
  },
  {
   "cell_type": "code",
   "execution_count": 30,
   "id": "ed863485",
   "metadata": {},
   "outputs": [],
   "source": [
    "ros = RandomOverSampler(random_state=42)\n",
    "X_train_ros, y_train_ros= ros.fit_resample(X_train, y_train)"
   ]
  },
  {
   "cell_type": "code",
   "execution_count": 31,
   "id": "4948d692",
   "metadata": {},
   "outputs": [
    {
     "data": {
      "text/plain": [
       "0    13590\n",
       "1    13590\n",
       "Name: Offer_Accepted, dtype: int64"
      ]
     },
     "execution_count": 31,
     "metadata": {},
     "output_type": "execute_result"
    }
   ],
   "source": [
    "y_train_ros.value_counts()"
   ]
  },
  {
   "cell_type": "code",
   "execution_count": 32,
   "id": "69005d5b",
   "metadata": {},
   "outputs": [
    {
     "data": {
      "text/plain": [
       "<AxesSubplot:xlabel='Offer_Accepted', ylabel='Count'>"
      ]
     },
     "execution_count": 32,
     "metadata": {},
     "output_type": "execute_result"
    },
    {
     "data": {
      "image/png": "[encoded data removed]",
      "text/plain": [
       "<Figure size 640x480 with 1 Axes>"
      ]
     },
     "metadata": {},
     "output_type": "display_data"
    }
   ],
   "source": [
    "sns.histplot(y_train_ros)"
   ]
  },
  {
   "cell_type": "markdown",
   "id": "e3735294",
   "metadata": {},
   "source": [
    "#### Aunque tengamos los valores ya equilibrados vamos a probar sin balancear"
   ]
  },
  {
   "cell_type": "code",
   "execution_count": 33,
   "id": "84492b9a",
   "metadata": {},
   "outputs": [
    {
     "name": "stdout",
     "output_type": "stream",
     "text": [
      "[-4.9986842]\n",
      "[[ 0.96656094  0.38317799  0.89417468 -0.88338586 -0.25482653  1.73109402\n",
      "   0.80021277  0.06876725 -0.17595005  0.40803887  0.41341419  0.04660707]]\n"
     ]
    }
   ],
   "source": [
    "model_LR = LogisticRegression()\n",
    "model_LR.fit(X_train, y_train)\n",
    "\n",
    "print(model_LR.intercept_)\n",
    "print(model_LR.coef_)"
   ]
  },
  {
   "cell_type": "code",
   "execution_count": 34,
   "id": "bc9a1937",
   "metadata": {},
   "outputs": [
    {
     "name": "stdout",
     "output_type": "stream",
     "text": [
      "Train set score (Accuracy) = 0.9438\n",
      "Test set score (Accuracy) = 0.9408\n",
      "╒═════════════════════════╤══════════════════════════╤═══════════════════════════╕\n",
      "│                         │   pred Offer_Accepted No │   pred Offer_Accepted Yes │\n",
      "╞═════════════════════════╪══════════════════════════╪═══════════════════════════╡\n",
      "│ real Offer_Accepted No  │                     3387 │                         0 │\n",
      "├─────────────────────────┼──────────────────────────┼───────────────────────────┤\n",
      "│ real Offer_Accepted Yes │                      213 │                         0 │\n",
      "╘═════════════════════════╧══════════════════════════╧═══════════════════════════╛\n",
      "              precision    recall  f1-score   support\n",
      "\n",
      "           0       0.94      1.00      0.97      3387\n",
      "           1       0.00      0.00      0.00       213\n",
      "\n",
      "    accuracy                           0.94      3600\n",
      "   macro avg       0.47      0.50      0.48      3600\n",
      "weighted avg       0.89      0.94      0.91      3600\n",
      "\n"
     ]
    },
    {
     "name": "stderr",
     "output_type": "stream",
     "text": [
      "C:\\Users\\sangu\\anaconda3\\lib\\site-packages\\sklearn\\metrics\\_classification.py:1318: UndefinedMetricWarning: Precision and F-score are ill-defined and being set to 0.0 in labels with no predicted samples. Use `zero_division` parameter to control this behavior.\n",
      "  _warn_prf(average, modifier, msg_start, len(result))\n",
      "C:\\Users\\sangu\\anaconda3\\lib\\site-packages\\sklearn\\metrics\\_classification.py:1318: UndefinedMetricWarning: Precision and F-score are ill-defined and being set to 0.0 in labels with no predicted samples. Use `zero_division` parameter to control this behavior.\n",
      "  _warn_prf(average, modifier, msg_start, len(result))\n",
      "C:\\Users\\sangu\\anaconda3\\lib\\site-packages\\sklearn\\metrics\\_classification.py:1318: UndefinedMetricWarning: Precision and F-score are ill-defined and being set to 0.0 in labels with no predicted samples. Use `zero_division` parameter to control this behavior.\n",
      "  _warn_prf(average, modifier, msg_start, len(result))\n"
     ]
    }
   ],
   "source": [
    "# Probamos sin equilibrar\n",
    "\n",
    "print(\"Train set score (Accuracy) =\", model_LR.score(X_train, y_train).round(4))\n",
    "print(\"Test set score (Accuracy) =\", model_LR.score(X_test, y_test).round(4))\n",
    "\n",
    "conf_mat = confusion_matrix(y_test, model_LR.predict(X_test))\n",
    "print(tabulate(conf_mat,headers = ['pred Offer_Accepted No','pred Offer_Accepted Yes'], showindex = ['real Offer_Accepted No','real Offer_Accepted Yes'], tablefmt = 'fancy_grid'))\n",
    "\n",
    "print(classification_report(y_test, model_LR.predict(X_test)))"
   ]
  },
  {
   "cell_type": "markdown",
   "id": "33f3624e",
   "metadata": {},
   "source": [
    "#### Da un error de cálculo por tener los grupos tan desequilibrados, por ello no se tendrá en cuenta."
   ]
  },
  {
   "cell_type": "markdown",
   "id": "cf3bfb67",
   "metadata": {},
   "source": [
    "#### Ahora vamos a hacerlo bien, equilibrándolo con el oversampling que hicimos antes"
   ]
  },
  {
   "cell_type": "code",
   "execution_count": 36,
   "id": "2c9845a6",
   "metadata": {},
   "outputs": [
    {
     "name": "stdout",
     "output_type": "stream",
     "text": [
      "[-2.21436224]\n",
      "[[ 1.02193835  0.40718188  0.9428911  -1.10342038 -0.30880051  1.84605425\n",
      "   0.84501419  0.08463153 -0.15202231  0.41569623  0.45716165 -0.13252681]]\n",
      "############\n",
      "Train set score (Accuracy) = 0.6923\n",
      "Test set score (Accuracy) = 0.6628\n",
      "╒═════════════════════════╤══════════════════════════╤═══════════════════════════╕\n",
      "│                         │   pred Offer_Accepted No │   pred Offer_Accepted Yes │\n",
      "╞═════════════════════════╪══════════════════════════╪═══════════════════════════╡\n",
      "│ real Offer_Accepted No  │                     2230 │                      1157 │\n",
      "├─────────────────────────┼──────────────────────────┼───────────────────────────┤\n",
      "│ real Offer_Accepted Yes │                       57 │                       156 │\n",
      "╘═════════════════════════╧══════════════════════════╧═══════════════════════════╛\n",
      "              precision    recall  f1-score   support\n",
      "\n",
      "           0       0.98      0.66      0.79      3387\n",
      "           1       0.12      0.73      0.20       213\n",
      "\n",
      "    accuracy                           0.66      3600\n",
      "   macro avg       0.55      0.70      0.50      3600\n",
      "weighted avg       0.92      0.66      0.75      3600\n",
      "\n"
     ]
    }
   ],
   "source": [
    "# Y ahora equilibrado con oversampling, alcanzando mejor accuracy\n",
    "\n",
    "model_LR_ros = LogisticRegression()\n",
    "model_LR_ros.fit(X_train_ros, y_train_ros)\n",
    "\n",
    "print(model_LR_ros.intercept_)\n",
    "print(model_LR_ros.coef_)\n",
    "print('############')\n",
    "print(\"Train set score (Accuracy) =\", model_LR_ros.score(X_train_ros, y_train_ros).round(4))\n",
    "print(\"Test set score (Accuracy) =\", model_LR_ros.score(X_test, y_test).round(4))\n",
    "\n",
    "conf_mat = confusion_matrix(y_test, model_LR_ros.predict(X_test))\n",
    "print(tabulate(conf_mat,headers = ['pred Offer_Accepted No','pred Offer_Accepted Yes'], showindex = ['real Offer_Accepted No','real Offer_Accepted Yes'], tablefmt = 'fancy_grid'))\n",
    "\n",
    "print(classification_report(y_test, model_LR_ros.predict(X_test)))"
   ]
  },
  {
   "cell_type": "markdown",
   "id": "e74cac94",
   "metadata": {},
   "source": [
    "### Vamos a probar el RandomForest después de ver la regresión logística"
   ]
  },
  {
   "cell_type": "code",
   "execution_count": 37,
   "id": "12239874",
   "metadata": {},
   "outputs": [
    {
     "data": {
      "text/plain": [
       "RandomForestClassifier(n_estimators=3)"
      ]
     },
     "execution_count": 37,
     "metadata": {},
     "output_type": "execute_result"
    }
   ],
   "source": [
    "rf_clf = RandomForestClassifier(n_estimators = 3, criterion ='gini') #  criterion ='entropy' \n",
    "rf_clf.fit(X_train_ros,y_train_ros)"
   ]
  },
  {
   "cell_type": "code",
   "execution_count": 38,
   "id": "c30bf88e",
   "metadata": {},
   "outputs": [],
   "source": [
    "y_predict = rf_clf.predict(X_test)"
   ]
  },
  {
   "cell_type": "code",
   "execution_count": 39,
   "id": "1ceb29c0",
   "metadata": {},
   "outputs": [
    {
     "name": "stdout",
     "output_type": "stream",
     "text": [
      "Train set score (Accuracy) = 0.9856\n",
      "Test set score (Accuracy) = 0.8892\n",
      "╒═════════════════════════╤══════════════════════════╤═══════════════════════════╕\n",
      "│                         │   pred Offer_Accepted No │   pred Offer_Accepted Yes │\n",
      "╞═════════════════════════╪══════════════════════════╪═══════════════════════════╡\n",
      "│ real Offer_Accepted No  │                     3179 │                       208 │\n",
      "├─────────────────────────┼──────────────────────────┼───────────────────────────┤\n",
      "│ real Offer_Accepted Yes │                      191 │                        22 │\n",
      "╘═════════════════════════╧══════════════════════════╧═══════════════════════════╛\n",
      "              precision    recall  f1-score   support\n",
      "\n",
      "           0       0.94      0.94      0.94      3387\n",
      "           1       0.10      0.10      0.10       213\n",
      "\n",
      "    accuracy                           0.89      3600\n",
      "   macro avg       0.52      0.52      0.52      3600\n",
      "weighted avg       0.89      0.89      0.89      3600\n",
      "\n"
     ]
    }
   ],
   "source": [
    "print(\"Train set score (Accuracy) =\", rf_clf.score(X_train, y_train).round(4))\n",
    "print(\"Test set score (Accuracy) =\", rf_clf.score(X_test, y_test).round(4))\n",
    "\n",
    "conf_mat = confusion_matrix(y_test, rf_clf.predict(X_test))\n",
    "print(tabulate(conf_mat,headers = ['pred Offer_Accepted No','pred Offer_Accepted Yes'], showindex = ['real Offer_Accepted No','real Offer_Accepted Yes'], tablefmt = 'fancy_grid'))\n",
    "\n",
    "print(classification_report(y_test, rf_clf.predict(X_test)))"
   ]
  },
  {
   "cell_type": "markdown",
   "id": "8a419d99",
   "metadata": {},
   "source": [
    "#### Vemos que es mucho mejor el Random Forest pero quizás no sea la más indicada para nuestro objetivo"
   ]
  },
  {
   "cell_type": "markdown",
   "id": "857b9cb3",
   "metadata": {},
   "source": [
    "---"
   ]
  },
  {
   "cell_type": "markdown",
   "id": "33945129",
   "metadata": {},
   "source": [
    "## Vamos a hacer un undersampling y ver si mejora el asunto"
   ]
  },
  {
   "cell_type": "code",
   "execution_count": 42,
   "id": "a39ce98b",
   "metadata": {},
   "outputs": [
    {
     "name": "stdout",
     "output_type": "stream",
     "text": [
      "[(0, 810), (1, 810)]\n"
     ]
    }
   ],
   "source": [
    "# Randomly under sample the majority class\n",
    "rus = RandomUnderSampler(random_state=42)\n",
    "X_train_rus, y_train_rus= rus.fit_resample(X_train, y_train)\n",
    "\n",
    "# Check the number of records after under sampling\n",
    "print(sorted(Counter(y_train_rus).items()))"
   ]
  },
  {
   "cell_type": "code",
   "execution_count": 61,
   "id": "fcedff52",
   "metadata": {},
   "outputs": [
    {
     "data": {
      "text/plain": [
       "<AxesSubplot:xlabel='Offer_Accepted', ylabel='Count'>"
      ]
     },
     "execution_count": 61,
     "metadata": {},
     "output_type": "execute_result"
    },
    {
     "data": {
      "image/png": "[encoded data removed]",
      "text/plain": [
       "<Figure size 640x480 with 1 Axes>"
      ]
     },
     "metadata": {},
     "output_type": "display_data"
    }
   ],
   "source": [
    "sns.histplot(y_train_rus)"
   ]
  },
  {
   "cell_type": "markdown",
   "id": "60222e38",
   "metadata": {},
   "source": [
    "#### Regresión Logística"
   ]
  },
  {
   "cell_type": "code",
   "execution_count": 43,
   "id": "8d01d9b6",
   "metadata": {},
   "outputs": [
    {
     "data": {
      "text/plain": [
       "LogisticRegression()"
      ]
     },
     "execution_count": 43,
     "metadata": {},
     "output_type": "execute_result"
    }
   ],
   "source": [
    "model_LR_rus = LogisticRegression()\n",
    "model_LR_rus.fit(X_train_rus, y_train_rus)"
   ]
  },
  {
   "cell_type": "code",
   "execution_count": 44,
   "id": "67c561b5",
   "metadata": {},
   "outputs": [
    {
     "name": "stdout",
     "output_type": "stream",
     "text": [
      "Train set score (Accuracy) = 0.6932\n",
      "Test set score (Accuracy) = 0.6714\n",
      "╒══════════════════╤════════════════════╤════════════════════╕\n",
      "│                  │   pred diagnosis B │   pred diagnosis M │\n",
      "╞══════════════════╪════════════════════╪════════════════════╡\n",
      "│ real iagnosis B  │               2267 │               1120 │\n",
      "├──────────────────┼────────────────────┼────────────────────┤\n",
      "│ real diagnosis M │                 63 │                150 │\n",
      "╘══════════════════╧════════════════════╧════════════════════╛\n",
      "              precision    recall  f1-score   support\n",
      "\n",
      "           0       0.97      0.67      0.79      3387\n",
      "           1       0.12      0.70      0.20       213\n",
      "\n",
      "    accuracy                           0.67      3600\n",
      "   macro avg       0.55      0.69      0.50      3600\n",
      "weighted avg       0.92      0.67      0.76      3600\n",
      "\n"
     ]
    }
   ],
   "source": [
    "print(\"Train set score (Accuracy) =\", model_LR_rus.score(X_train_rus, y_train_rus).round(4))\n",
    "print(\"Test set score (Accuracy) =\", model_LR_rus.score(X_test, y_test).round(4))\n",
    "\n",
    "conf_mat = confusion_matrix(y_test, model_LR_rus.predict(X_test))\n",
    "print(tabulate(conf_mat,headers = ['pred diagnosis B','pred diagnosis M'], showindex = ['real iagnosis B','real diagnosis M'], tablefmt = 'fancy_grid'))\n",
    "\n",
    "print(classification_report(y_test, model_LR_rus.predict(X_test)))"
   ]
  },
  {
   "cell_type": "code",
   "execution_count": 77,
   "id": "ee99d107",
   "metadata": {},
   "outputs": [
    {
     "name": "stdout",
     "output_type": "stream",
     "text": [
      "Train set score (Accuracy) = 0.9926\n",
      "Test set score (Accuracy) = 0.8867\n",
      "╒═════════════════════════╤══════════════════════════╤═══════════════════════════╕\n",
      "│                         │   pred Offer_Accepted No │   pred Offer_Accepted Yes │\n",
      "╞═════════════════════════╪══════════════════════════╪═══════════════════════════╡\n",
      "│ real Offer_Accepted No  │                     3164 │                       223 │\n",
      "├─────────────────────────┼──────────────────────────┼───────────────────────────┤\n",
      "│ real Offer_Accepted Yes │                      185 │                        28 │\n",
      "╘═════════════════════════╧══════════════════════════╧═══════════════════════════╛\n",
      "              precision    recall  f1-score   support\n",
      "\n",
      "           0       0.94      0.93      0.94      3387\n",
      "           1       0.11      0.13      0.12       213\n",
      "\n",
      "    accuracy                           0.89      3600\n",
      "   macro avg       0.53      0.53      0.53      3600\n",
      "weighted avg       0.90      0.89      0.89      3600\n",
      "\n"
     ]
    }
   ],
   "source": [
    "rf_clf = RandomForestClassifier(n_estimators = 3, criterion ='gini') #  criterion ='entropy' \n",
    "rf_clf.fit(X_train_ros,y_train_ros)\n",
    "y_predict = rf_clf.predict(X_test)\n",
    "print(\"Train set score (Accuracy) =\", rf_clf.score(X_train_rus, y_train_rus).round(4))\n",
    "print(\"Test set score (Accuracy) =\", rf_clf.score(X_test, y_test).round(4))\n",
    "\n",
    "conf_mat = confusion_matrix(y_test, rf_clf.predict(X_test))\n",
    "print(tabulate(conf_mat,headers = ['pred Offer_Accepted No','pred Offer_Accepted Yes'], showindex = ['real Offer_Accepted No','real Offer_Accepted Yes'], tablefmt = 'fancy_grid'))\n",
    "\n",
    "print(classification_report(y_test, rf_clf.predict(X_test)))"
   ]
  },
  {
   "cell_type": "markdown",
   "id": "477fcf36",
   "metadata": {},
   "source": [
    "### Finalmente probaremos con el SMOTE"
   ]
  },
  {
   "cell_type": "code",
   "execution_count": 46,
   "id": "30efb49d",
   "metadata": {},
   "outputs": [],
   "source": [
    "smote = SMOTE()"
   ]
  },
  {
   "cell_type": "code",
   "execution_count": 47,
   "id": "54c65b33",
   "metadata": {},
   "outputs": [],
   "source": [
    "X_train_sm, y_train_sm = smote.fit_resample(X_train, y_train)"
   ]
  },
  {
   "cell_type": "code",
   "execution_count": 62,
   "id": "592dc19d",
   "metadata": {},
   "outputs": [
    {
     "data": {
      "text/plain": [
       "<AxesSubplot:xlabel='Offer_Accepted', ylabel='Count'>"
      ]
     },
     "execution_count": 62,
     "metadata": {},
     "output_type": "execute_result"
    },
    {
     "data": {
      "image/png": "[encoded data removed]",
      "text/plain": [
       "<Figure size 640x480 with 1 Axes>"
      ]
     },
     "metadata": {},
     "output_type": "display_data"
    }
   ],
   "source": [
    "sns.histplot(y_train_sm)"
   ]
  },
  {
   "cell_type": "code",
   "execution_count": 48,
   "id": "f345c8de",
   "metadata": {},
   "outputs": [
    {
     "data": {
      "text/plain": [
       "LogisticRegression()"
      ]
     },
     "execution_count": 48,
     "metadata": {},
     "output_type": "execute_result"
    }
   ],
   "source": [
    "model_LR_sm = LogisticRegression()\n",
    "model_LR_sm.fit(X_train_sm, y_train_sm)"
   ]
  },
  {
   "cell_type": "code",
   "execution_count": 49,
   "id": "24f5f77d",
   "metadata": {},
   "outputs": [
    {
     "name": "stdout",
     "output_type": "stream",
     "text": [
      "Train set score (Accuracy) = 0.6983\n",
      "Test set score (Accuracy) = 0.6906\n",
      "╒══════════════════╤════════════════════╤════════════════════╕\n",
      "│                  │   pred diagnosis B │   pred diagnosis M │\n",
      "╞══════════════════╪════════════════════╪════════════════════╡\n",
      "│ real diagnosis B │               2340 │               1047 │\n",
      "├──────────────────┼────────────────────┼────────────────────┤\n",
      "│ real diagnosis M │                 67 │                146 │\n",
      "╘══════════════════╧════════════════════╧════════════════════╛\n",
      "              precision    recall  f1-score   support\n",
      "\n",
      "           0       0.97      0.69      0.81      3387\n",
      "           1       0.12      0.69      0.21       213\n",
      "\n",
      "    accuracy                           0.69      3600\n",
      "   macro avg       0.55      0.69      0.51      3600\n",
      "weighted avg       0.92      0.69      0.77      3600\n",
      "\n"
     ]
    }
   ],
   "source": [
    "print(\"Train set score (Accuracy) =\", model_LR_sm.score(X_train_sm, y_train_sm).round(4))\n",
    "print(\"Test set score (Accuracy) =\", model_LR_sm.score(X_test, y_test).round(4))\n",
    "\n",
    "conf_mat = confusion_matrix(y_test, model_LR_sm.predict(X_test))\n",
    "print(tabulate(conf_mat, headers = ['pred diagnosis B','pred diagnosis M'], showindex = ['real diagnosis B','real diagnosis M'], tablefmt = 'fancy_grid'))\n",
    "\n",
    "print(classification_report(y_test, model_LR_sm.predict(X_test)))"
   ]
  },
  {
   "cell_type": "code",
   "execution_count": 50,
   "id": "dbbf367c",
   "metadata": {},
   "outputs": [
    {
     "name": "stdout",
     "output_type": "stream",
     "text": [
      "Train set score (Accuracy) = 0.9444\n",
      "Test set score (Accuracy) = 0.7361\n",
      "╒═════════════════════════╤══════════════════════════╤═══════════════════════════╕\n",
      "│                         │   pred Offer_Accepted No │   pred Offer_Accepted Yes │\n",
      "╞═════════════════════════╪══════════════════════════╪═══════════════════════════╡\n",
      "│ real Offer_Accepted No  │                     2557 │                       830 │\n",
      "├─────────────────────────┼──────────────────────────┼───────────────────────────┤\n",
      "│ real Offer_Accepted Yes │                      120 │                        93 │\n",
      "╘═════════════════════════╧══════════════════════════╧═══════════════════════════╛\n",
      "              precision    recall  f1-score   support\n",
      "\n",
      "           0       0.96      0.75      0.84      3387\n",
      "           1       0.10      0.44      0.16       213\n",
      "\n",
      "    accuracy                           0.74      3600\n",
      "   macro avg       0.53      0.60      0.50      3600\n",
      "weighted avg       0.90      0.74      0.80      3600\n",
      "\n"
     ]
    }
   ],
   "source": [
    "rf_clf = RandomForestClassifier(n_estimators = 3, criterion ='gini') #  criterion ='entropy' \n",
    "rf_clf.fit(X_train_sm,y_train_sm)\n",
    "y_predict = rf_clf.predict(X_test)\n",
    "print(\"Train set score (Accuracy) =\", rf_clf.score(X_train_sm, y_train_sm).round(4))\n",
    "print(\"Test set score (Accuracy) =\", rf_clf.score(X_test, y_test).round(4))\n",
    "\n",
    "conf_mat = confusion_matrix(y_test, rf_clf.predict(X_test))\n",
    "print(tabulate(conf_mat,headers = ['pred Offer_Accepted No','pred Offer_Accepted Yes'], showindex = ['real Offer_Accepted No','real Offer_Accepted Yes'], tablefmt = 'fancy_grid'))\n",
    "\n",
    "print(classification_report(y_test, rf_clf.predict(X_test)))"
   ]
  },
  {
   "cell_type": "markdown",
   "id": "8397837f",
   "metadata": {},
   "source": [
    "### Tendremos que evaluar cuál es el modelo que más nos aporta, pues aunque el RandomForest con UnderSampling tiene los mejores valores ha dejado fuera a muchos clientes potenciales y el pred-real offer accepted es muy bajo, que son los clientes que realmente han aceptado la oferta, y eso no nos conviene."
   ]
  },
  {
   "cell_type": "markdown",
   "id": "a4ff6f80",
   "metadata": {},
   "source": [
    "# Entonces nos quedaremos con la Regresión Logística con OverSampling, pues, aparte del mayor número de aciertos tiene el mejor precisión y la mejor recall."
   ]
  },
  {
   "cell_type": "markdown",
   "id": "67fd8f74",
   "metadata": {},
   "source": [
    "---"
   ]
  },
  {
   "cell_type": "markdown",
   "id": "d11e374c",
   "metadata": {},
   "source": [
    "## Curva ROC"
   ]
  },
  {
   "cell_type": "code",
   "execution_count": 78,
   "id": "03099387",
   "metadata": {},
   "outputs": [
    {
     "name": "stdout",
     "output_type": "stream",
     "text": [
      "Logistic: ROC AUC=0.767\n"
     ]
    },
    {
     "data": {
      "image/png": "[encoded data removed]",
      "text/plain": [
       "<Figure size 800x600 with 1 Axes>"
      ]
     },
     "metadata": {},
     "output_type": "display_data"
    }
   ],
   "source": [
    "prob_test = pd.DataFrame(model_LR_ros.predict_proba(X_test))\n",
    "prob_test = prob_test[1]\n",
    "\n",
    "# generate a no skill prediction (majority class)\n",
    "random_class = [0 for _ in range(len(y_test))]\n",
    "rand_auc = roc_auc_score(y_test, random_class)\n",
    "\n",
    "auc = roc_auc_score(y_test, prob_test)\n",
    "print('Logistic: ROC AUC=%.3f' % (auc))\n",
    "\n",
    "rndm_false_postv, rndm_true_postv, threshold = roc_curve(y_test, random_class)\n",
    "false_positive, true_postitive, _ = roc_curve(y_test, prob_test)\n",
    "\n",
    "plt.figure(figsize=(8, 6))\n",
    "plt.plot(rndm_false_postv, rndm_true_postv, linestyle='--', label='Random classification')\n",
    "plt.plot(false_positive, true_postitive, marker='*', label='Logistic')\n",
    "# axis labels\n",
    "plt.xlabel('False Positive Rate')\n",
    "plt.ylabel('True Positive Rate')\n",
    "# show the legend\n",
    "plt.legend()\n",
    "# show the plot\n",
    "plt.show()"
   ]
  },
  {
   "cell_type": "markdown",
   "id": "69d28ba7",
   "metadata": {},
   "source": [
    "#### Con la curva de ROC reforzamos la conclusión de que tenemos una buena clasificación pues nos queda un AUC cerca de 1"
   ]
  },
  {
   "cell_type": "code",
   "execution_count": 85,
   "id": "3d8f5cf4",
   "metadata": {},
   "outputs": [
    {
     "name": "stdout",
     "output_type": "stream",
     "text": [
      "╒═════════════════════════╤══════════════════════════╤═══════════════════════════╤═══════╕\n",
      "│                         │   pred Offer_Accepted No │   Pred Offer_Accepted Yes │   All │\n",
      "╞═════════════════════════╪══════════════════════════╪═══════════════════════════╪═══════╡\n",
      "│ Real Offer_Accepted No  │                     2826 │                       561 │  3387 │\n",
      "├─────────────────────────┼──────────────────────────┼───────────────────────────┼───────┤\n",
      "│ Real Offer_Accepted Yes │                      113 │                       100 │   213 │\n",
      "├─────────────────────────┼──────────────────────────┼───────────────────────────┼───────┤\n",
      "│ All                     │                     2939 │                       661 │  3600 │\n",
      "╘═════════════════════════╧══════════════════════════╧═══════════════════════════╧═══════╛\n",
      "\n",
      "\n",
      "Accuracy 0.813\n",
      "Precision 0.151\n",
      "Recall 0.469\n",
      "F_Score 0.229\n",
      "\n",
      "\n"
     ]
    }
   ],
   "source": [
    "def Threshold(X = X_test, model = model_LR_ros, threshold = 0.5):\n",
    "    prob_test = pd.DataFrame(model.predict_proba(X).round(3))\n",
    "    \n",
    "    prob_test.loc[prob_test[1] > threshold, 'yhat'] = 1\n",
    "    prob_test.loc[prob_test[1] <= threshold, 'yhat'] = 0\n",
    "    \n",
    "    y_threshold = pd.concat([prob_test, y_test.reset_index(drop = True)], axis = 1)\n",
    "    cross_threshold = pd.crosstab(y_threshold[\"Offer_Accepted\"], y_threshold[\"yhat\"], margins = True)\n",
    "    \n",
    "    print(tabulate(cross_threshold,headers = ['pred Offer_Accepted No','Pred Offer_Accepted Yes', 'All'], showindex = ['Real Offer_Accepted No','Real Offer_Accepted Yes', 'All'], tablefmt = 'fancy_grid'))\n",
    "    \n",
    "    accuracy = (cross_threshold[1][1] + cross_threshold[0][0]) / (cross_threshold['All']['All'])\n",
    "    recall = cross_threshold[1][1] / (cross_threshold[1][1] + cross_threshold[0][1])\n",
    "    precision = cross_threshold[1][1] / (cross_threshold[1][1] + cross_threshold[1][0])\n",
    "    F_Score = 2*(precision*recall) / (precision + recall)\n",
    "    print(\"\\n\")\n",
    "    print(\"Accuracy\", accuracy.round(3))\n",
    "    print(\"Precision\", precision.round(3))\n",
    "    print(\"Recall\", recall.round(3))\n",
    "    print(\"F_Score\", F_Score.round(3))\n",
    "    print(\"\\n\")\n",
    "    #return cross_threshold\n",
    "\n",
    "Threshold(X_test,model_LR_ros, 0.64)"
   ]
  },
  {
   "cell_type": "markdown",
   "id": "1d2cae62",
   "metadata": {},
   "source": [
    "---"
   ]
  },
  {
   "cell_type": "markdown",
   "id": "ac2bdf0a",
   "metadata": {},
   "source": [
    "## Conclusión"
   ]
  },
  {
   "cell_type": "markdown",
   "id": "01613744",
   "metadata": {},
   "source": [
    "### *Quizás no parezcan los mejores resultados a simple vista, pero después de optimizarlo llegamos a que de 561 personas a las que les enviamos la oferta, conseguimos 100 clientes, lo cual nos deja con una tasa de conversión del 15,6%, lo cual, tanto económica como empresarialmente, es algo muy bueno, pues las tasas de conversión ( cuanta gente de todos a los que se lo muestras realmente entre en tu propuesta de negocio ) suelen estar en torno al 3%, así que, desde el punto de vista de la empresa que trata con esta oferta de crédito, este modelo supondrá un gran optimización de su campaña y su dinero.*\n"
   ]
  },
  {
   "cell_type": "markdown",
   "id": "5ac0ce11",
   "metadata": {},
   "source": [
    "---"
   ]
  }
 ],
 "metadata": {
  "kernelspec": {
   "display_name": "Python 3 (ipykernel)",
   "language": "python",
   "name": "python3"
  },
  "language_info": {
   "codemirror_mode": {
    "name": "ipython",
    "version": 3
   },
   "file_extension": ".py",
   "mimetype": "text/x-python",
   "name": "python",
   "nbconvert_exporter": "python",
   "pygments_lexer": "ipython3",
   "version": "3.9.13"
  }
 },
 "nbformat": 4,
 "nbformat_minor": 5
}
